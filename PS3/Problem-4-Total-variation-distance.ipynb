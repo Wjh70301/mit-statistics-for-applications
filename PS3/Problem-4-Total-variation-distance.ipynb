{
 "cells": [
  {
   "cell_type": "markdown",
   "metadata": {
    "nbpresent": {
     "id": "3e74754b-8f26-4293-8312-2d37e375deb5"
    }
   },
   "source": [
    "# 1"
   ]
  },
  {
   "cell_type": "markdown",
   "metadata": {},
   "source": [
    "Calculate the total variation of two uniform distributions, $0 < s \\le t$."
   ]
  },
  {
   "cell_type": "markdown",
   "metadata": {},
   "source": [
    "\\begin{align*}\n",
    "\\text{TV}[\\text{U}(0, s), \\text{U}(0, t)]\n",
    "&=\\frac{1}{2}\\int_0^t\\left|p_s(x) - p_t(x)\\right|dx \\\\\n",
    "&=\\frac{1}{2}\\int_0^s\\Big(\\frac{1}{s} - \\frac{1}{t}\\Big)dx + \\frac{1}{2}\\int_s^t \\frac{1}{t}dx \\\\\n",
    "&=\\frac{1}{2}\\Big(\\frac{1}{s} - \\frac{1}{t}\\Big)s + \\frac{1}{2}\\Big(1 - \\frac{s}{t}\\Big) \\\\\n",
    "&=1 - \\frac{s}{t}\n",
    "\\end{align*}"
   ]
  },
  {
   "cell_type": "markdown",
   "metadata": {},
   "source": [
    "so when $s = 0$, it checks out that $\\text{TV} = 0$."
   ]
  },
  {
   "cell_type": "markdown",
   "metadata": {},
   "source": [
    "# 2"
   ]
  },
  {
   "cell_type": "markdown",
   "metadata": {},
   "source": [
    "Calculatethe total variation of two Bernoulli distributions."
   ]
  },
  {
   "cell_type": "markdown",
   "metadata": {},
   "source": [
    "\\begin{align*}\n",
    "\\text{TV}[\\text{Ber}(p), \\text{Ber}(q)]\n",
    "&=\\frac{1}{2}\\Big(\\left|p - q\\right| + \\left|(1-p) - (1-q)\\right|\\Big) \\\\\n",
    "&=\\frac{1}{2}\\Big(\\left|p - q\\right| + \\left|q-p\\right|\\Big) \\\\\n",
    "&=\\left|p - q\\right|\n",
    "\\end{align*}"
   ]
  },
  {
   "cell_type": "markdown",
   "metadata": {},
   "source": [
    "so when $p = q$, it checks out that $\\text{TV} = 0$."
   ]
  },
  {
   "cell_type": "markdown",
   "metadata": {},
   "source": [
    "# 3"
   ]
  },
  {
   "cell_type": "markdown",
   "metadata": {},
   "source": [
    "Based on result from Question 2 above,"
   ]
  },
  {
   "cell_type": "markdown",
   "metadata": {},
   "source": [
    "\\begin{align*}\n",
    "\\lim_{n \\to \\infty}\\text{TV}[\\text{Ber}(p), \\text{Ber}(\\bar X_n)]\n",
    "&=\\lim_{n \\to \\infty}\\left|p - \\bar X_n\\right| \\\\\n",
    "&=\\left|p - p\\right| \\\\\n",
    "&= 0\n",
    "\\end{align*}"
   ]
  },
  {
   "cell_type": "markdown",
   "metadata": {},
   "source": [
    "so the total variation distance between $\\text{Ber}(\\bar X_n)$ and $\\text{Ber}(p)$ converges to zero in probabilty. (May need to remove proof of convergence in probability to see if the above is sufficient."
   ]
  },
  {
   "cell_type": "markdown",
   "metadata": {},
   "source": [
    "# 4"
   ]
  },
  {
   "cell_type": "markdown",
   "metadata": {},
   "source": [
    "Show that the Poisson distribution with parameter $\\frac{1}{n}$ converges in total variation distance to the Dirac distribution at zero (i.e., the distribution of the random variable that is always equal to zero)."
   ]
  },
  {
   "cell_type": "markdown",
   "metadata": {},
   "source": [
    "The PMF for $\\text{Poisson}(\\frac{1}{n})$ is "
   ]
  },
  {
   "cell_type": "markdown",
   "metadata": {},
   "source": [
    "$$p(x) = \\frac{\\big(\\frac{1}{n}\\big)^k\\exp{-\\frac{1}{n}}}{{k!}}$$"
   ]
  },
  {
   "cell_type": "markdown",
   "metadata": {},
   "source": [
    "\\begin{align*}\n",
    "\\lim_{n \\to \\infty}p(x) = 0\n",
    "\\end{align*}"
   ]
  }
 ],
 "metadata": {
  "kernelspec": {
   "display_name": "Python 3",
   "language": "python",
   "name": "python3"
  },
  "language_info": {
   "codemirror_mode": {
    "name": "ipython",
    "version": 3
   },
   "file_extension": ".py",
   "mimetype": "text/x-python",
   "name": "python",
   "nbconvert_exporter": "python",
   "pygments_lexer": "ipython3",
   "version": "3.6.4"
  }
 },
 "nbformat": 4,
 "nbformat_minor": 2
}
