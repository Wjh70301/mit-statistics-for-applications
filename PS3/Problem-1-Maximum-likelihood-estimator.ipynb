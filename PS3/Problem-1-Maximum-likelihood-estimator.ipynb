{
 "cells": [
  {
   "cell_type": "markdown",
   "metadata": {
    "nbpresent": {
     "id": "3e74754b-8f26-4293-8312-2d37e375deb5"
    }
   },
   "source": [
    "# 1"
   ]
  },
  {
   "cell_type": "markdown",
   "metadata": {
    "nbpresent": {
     "id": "aec162c3-2782-435d-b5a3-d50347dccb0e"
    }
   },
   "source": [
    "$$f_{\\theta}(x) = \\theta \\tau^{\\theta} x^{-(\\theta + 1)} \\mathbb{1} ( x \\ge \\tau)$$\n",
    "\n",
    "$$\\theta > 0, \\text{where}\\; \\tau >0\\; \\text{is a known constant}$$"
   ]
  },
  {
   "cell_type": "markdown",
   "metadata": {},
   "source": [
    "#### Ans:"
   ]
  },
  {
   "cell_type": "markdown",
   "metadata": {},
   "source": [
    "If any of $X_i < \\tau$, then the likelihood $L = 0$, else"
   ]
  },
  {
   "cell_type": "markdown",
   "metadata": {},
   "source": [
    "\\begin{align*}\n",
    "L\n",
    "&= \\prod_{i=1}^n f_{\\theta}(X_i) \\\\\n",
    "&= \\prod_{i=1}^n \\theta \\tau^{\\theta} X_i^{-(\\theta + 1)}\n",
    "\\end{align*}"
   ]
  },
  {
   "cell_type": "markdown",
   "metadata": {},
   "source": [
    "Log-likehoold"
   ]
  },
  {
   "cell_type": "markdown",
   "metadata": {},
   "source": [
    "\\begin{align*}\n",
    "\\ell\n",
    "&= \\log{L} \\\\\n",
    "&= \\log\\Big( \\prod_{i=1}^n \\theta \\tau^{\\theta} X_i^{-(\\theta + 1)} \\Big) \\\\\n",
    "&= \\sum_{i=1}^n \\log{\\theta} + \\theta\\log{\\tau} - (\\theta +1) \\log{X_i} \\\\\n",
    "&= n\\log{\\theta} + n\\theta\\log{\\tau} - (\\theta +1) \\sum_{i=1}^n \\log{X_i} \\\\\n",
    "\\end{align*}"
   ]
  },
  {
   "cell_type": "markdown",
   "metadata": {},
   "source": [
    "Then, set"
   ]
  },
  {
   "cell_type": "markdown",
   "metadata": {},
   "source": [
    "\\begin{align*}\n",
    "\\frac{\\partial \\ell}{\\partial \\theta}\n",
    "&= \\frac{n}{\\theta} + n\\log{\\tau} - \\sum_{i=1}^n \\log{X_i} = 0\n",
    "\\end{align*}"
   ]
  },
  {
   "cell_type": "markdown",
   "metadata": {},
   "source": [
    "so,"
   ]
  },
  {
   "cell_type": "markdown",
   "metadata": {},
   "source": [
    "$$\\hat \\theta_n^{\\text{MLE}} = \\arg \\max_{\\theta}\\ell = \\theta = \\frac{n}{\\sum_{i=1}^n \\log{X_i} - n\\log{\\tau}}$$"
   ]
  },
  {
   "cell_type": "markdown",
   "metadata": {},
   "source": [
    "Also, note that $\\frac{\\partial^2 \\ell}{\\partial \\theta^2} = \\sum_{i=1}^{n} - \\frac{1}{\\theta^2} = - \\frac{n}{\\theta^2} < 0$, so $\\ell$ is concave, hence when $\\frac{\\partial \\ell}{\\partial \\theta} = 0$, $\\ell$ is maximized."
   ]
  },
  {
   "cell_type": "markdown",
   "metadata": {},
   "source": [
    "# 2"
   ]
  },
  {
   "cell_type": "markdown",
   "metadata": {},
   "source": [
    "$$f_{\\theta}(x) = \\tau \\theta^{\\tau} x^{-(\\tau + 1)} \\mathbb{1}(x \\ge \\theta)$$"
   ]
  },
  {
   "cell_type": "markdown",
   "metadata": {},
   "source": [
    "$$\\theta > 0, \\text{where}\\; \\tau >0\\; \\text{is a known constant}$$"
   ]
  },
  {
   "cell_type": "markdown",
   "metadata": {},
   "source": [
    "#### Ans:"
   ]
  },
  {
   "cell_type": "markdown",
   "metadata": {},
   "source": [
    "\\begin{align*}\n",
    "L \n",
    "&= \\prod_{i=1}^n\\tau \\theta^{\\tau} x^{-(\\tau + 1)} \\\\\n",
    "\\ell &= \\log L \\\\\n",
    "&= \\sum_{i=1}^n \\log\\tau + \\tau\\log{\\theta} - (\\tau + 1)X_i \\\\\n",
    "&=  n\\log\\tau + n\\tau\\log{\\theta} - (\\tau + 1)\\sum_{i=1}^nX_i \\\\\n",
    "\\end{align*}"
   ]
  },
  {
   "cell_type": "markdown",
   "metadata": {},
   "source": [
    "Then we maximize"
   ]
  },
  {
   "cell_type": "markdown",
   "metadata": {},
   "source": [
    "\\begin{align*}\n",
    "\\text{maximize}\\; &\\ell \\\\\n",
    "\\text{subject to}\\; &X_i > \\theta, \\; i=1, \\dots n\n",
    "\\end{align*}"
   ]
  },
  {
   "cell_type": "markdown",
   "metadata": {},
   "source": [
    "Compute the derivatives of $\\ell$"
   ]
  },
  {
   "cell_type": "markdown",
   "metadata": {},
   "source": [
    "\\begin{align*}\n",
    "\\frac{\\partial \\ell}{\\partial \\theta}\n",
    "&= \\frac{n \\tau}{\\theta} > 0 \\\\\n",
    "\\frac{\\partial^2 \\ell}{\\partial \\theta^2}\n",
    "&= -n\\tau\\frac{1}{\\theta^2} < 0\n",
    "\\end{align*}"
   ]
  },
  {
   "cell_type": "markdown",
   "metadata": {},
   "source": [
    "so $\\ell$ is concave, but its first derivative never reaches 0. Considering the condition, $\\ell$ is maximized at "
   ]
  },
  {
   "cell_type": "markdown",
   "metadata": {},
   "source": [
    "$$\\theta = \\min(X_1, \\dots, X_n)$$"
   ]
  },
  {
   "cell_type": "markdown",
   "metadata": {},
   "source": [
    "Note that $\\ell$ is basically in the form of $a\\log \\theta + b$, where $a$ and $b$ are constants."
   ]
  },
  {
   "cell_type": "markdown",
   "metadata": {},
   "source": [
    "# 3"
   ]
  },
  {
   "cell_type": "markdown",
   "metadata": {},
   "source": [
    "$$f_{\\theta}(x) = \\sqrt{\\theta} x^{\\sqrt{\\theta} - 1}  \\mathbb{1}(0 \\lt x \\le 1)$$"
   ]
  },
  {
   "cell_type": "markdown",
   "metadata": {},
   "source": [
    "$$\\theta > 0$$"
   ]
  },
  {
   "cell_type": "markdown",
   "metadata": {},
   "source": [
    "The original problem says $x$ could be 0, but that's obviously not the case as the corresponding density would be 0, so adjust the domain of $f_{\\theta}(x)$ to exclude $x=0$, the same adjustment is also applied to question 4 and 5."
   ]
  },
  {
   "cell_type": "markdown",
   "metadata": {},
   "source": [
    "#### Ans:"
   ]
  },
  {
   "cell_type": "markdown",
   "metadata": {},
   "source": [
    "\\begin{align*}\n",
    "L \n",
    "&= \\prod_{i=1}^n\\sqrt{\\theta} X_i^{\\sqrt{\\theta} - 1} \\\\\n",
    "\\ell &= \\log L \\\\\n",
    "&= \\sum_{i=1}^n \\frac{1}{2} \\log \\theta + (\\sqrt{\\theta} - 1)\\log X_i \\\\\n",
    "&= \\frac{n}{2} \\log \\theta + (\\sqrt{\\theta} - 1) \\sum_{i=1}^n \\log X_i \\\\\n",
    "\\end{align*}"
   ]
  },
  {
   "cell_type": "markdown",
   "metadata": {},
   "source": [
    "\\begin{align*}\n",
    "\\frac{\\partial \\ell}{\\partial \\theta}\n",
    "&= \\frac{n}{2 \\theta} + \\frac{1}{2 \\sqrt{\\theta}} \\sum_{i=1}^n\\log X_i \\\\\n",
    "\\frac{\\partial^2 \\ell}{\\partial \\theta^2}\n",
    "&= -\\frac{n}{2\\theta^2} - \\frac{1}{4}\\theta^{-\\frac{3}{2}} \\sum_{i=1}^n\\log X_i\n",
    "\\end{align*}"
   ]
  },
  {
   "cell_type": "markdown",
   "metadata": {},
   "source": [
    "In this case, it seems not obvious if $\\ell$ is always concave over $\\theta$.\n",
    "\n",
    "Set $\\ell = 0$, we obtain"
   ]
  },
  {
   "cell_type": "markdown",
   "metadata": {},
   "source": [
    "\\begin{align*}\n",
    "\\theta = \\Big(\\frac{n}{- \\sum_{i=1}^n \\log X_i} \\Big)^2\n",
    "\\end{align*}"
   ]
  },
  {
   "cell_type": "markdown",
   "metadata": {},
   "source": [
    "# 4"
   ]
  },
  {
   "cell_type": "markdown",
   "metadata": {},
   "source": [
    "$$f_{\\theta}(x) = \\frac{x}{\\theta^2} \\exp\\Big(-\\frac{x^2}{2\\theta^2}\\Big) \\mathbb{1}(x > 0)$$"
   ]
  },
  {
   "cell_type": "markdown",
   "metadata": {},
   "source": [
    "$$\\theta > 0$$"
   ]
  },
  {
   "cell_type": "markdown",
   "metadata": {},
   "source": [
    "#### Ans"
   ]
  },
  {
   "cell_type": "markdown",
   "metadata": {},
   "source": [
    "\\begin{align*}\n",
    "L \n",
    "&= \\prod_{i=1}^n \\frac{X_i}{\\theta^2} \\exp\\Big(-\\frac{X_i^2}{2\\theta^2}\\Big) \\\\\n",
    "\\ell\n",
    "&= \\log L \\\\\n",
    "&= \\sum_{i=1}^n X_i - 2\\log{\\theta} - \\frac{X_i^2}{2\\theta^2} \\\\\n",
    "&= -2 \\log{\\theta} + \\sum_{i=1}^nX_i - \\frac{1}{2\\theta^2}\\sum_{i=1}^nX_i^2 \\\\\n",
    "\\frac{\\partial \\ell}{\\partial \\theta}\n",
    "&= -\\frac{2}{\\theta} + \\frac{\\sum_{i=1}^nX_i^2}{\\theta^3} \\\\\n",
    "\\end{align*}"
   ]
  },
  {
   "cell_type": "markdown",
   "metadata": {},
   "source": [
    "Set $\\frac{\\partial \\ell}{\\partial \\theta} = 0$,"
   ]
  },
  {
   "cell_type": "markdown",
   "metadata": {},
   "source": [
    "$$\\theta = \\sqrt{\\frac{\\sum_{i=1}^{n}X_i^2}{2}}$$"
   ]
  },
  {
   "cell_type": "markdown",
   "metadata": {},
   "source": [
    "# 5"
   ]
  },
  {
   "cell_type": "markdown",
   "metadata": {},
   "source": [
    "$$f_{\\theta}(x) = \\theta \\tau x^{\\tau - 1}\\exp(-\\theta x^{\\tau}) \\mathbb{1}(x > 0)$$"
   ]
  },
  {
   "cell_type": "markdown",
   "metadata": {},
   "source": [
    "$$\\theta > 0, \\text{where}\\; \\tau >0\\; \\text{is a known constant}$$"
   ]
  },
  {
   "cell_type": "markdown",
   "metadata": {},
   "source": [
    "#### Ans"
   ]
  },
  {
   "cell_type": "markdown",
   "metadata": {},
   "source": [
    "\\begin{align*}\n",
    "L \n",
    "&= \\prod_{i=1}^n \\theta \\tau X_i^{\\tau - 1}\\exp(-\\theta X_i^{\\tau}) \\\\\n",
    "\\ell\n",
    "&= \\log L \\\\\n",
    "&= \\sum_{i=1}^n \\log \\theta + \\log \\tau + (\\tau - 1)\\log X_i - \\theta X_i^{\\tau} \\\\\n",
    "&= n\\log \\theta + n\\log \\tau + (\\tau - 1)\\sum_{i=1}^n \\log X_i - \\theta \\sum_{i=1}^n X_i^{\\tau} \\\\\n",
    "\\frac{\\partial \\ell}{\\partial \\theta}\n",
    "&= \\frac{n}{\\theta} - \\sum_{i=1}^n X_i^{\\tau}\n",
    "\\end{align*}"
   ]
  },
  {
   "cell_type": "markdown",
   "metadata": {},
   "source": [
    "Set $\\frac{\\partial \\ell}{\\partial \\theta} = 0$,"
   ]
  },
  {
   "cell_type": "markdown",
   "metadata": {},
   "source": [
    "$$\\theta = \\frac{n}{\\sum_{i=1}^nX_i^{\\tau}}$$"
   ]
  }
 ],
 "metadata": {
  "kernelspec": {
   "display_name": "Python 3",
   "language": "python",
   "name": "python3"
  },
  "language_info": {
   "codemirror_mode": {
    "name": "ipython",
    "version": 3
   },
   "file_extension": ".py",
   "mimetype": "text/x-python",
   "name": "python",
   "nbconvert_exporter": "python",
   "pygments_lexer": "ipython3",
   "version": "3.6.4"
  }
 },
 "nbformat": 4,
 "nbformat_minor": 2
}
