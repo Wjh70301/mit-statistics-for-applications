{
 "cells": [
  {
   "cell_type": "markdown",
   "metadata": {
    "nbpresent": {
     "id": "3e74754b-8f26-4293-8312-2d37e375deb5"
    }
   },
   "source": [
    "# 1"
   ]
  },
  {
   "cell_type": "markdown",
   "metadata": {},
   "source": [
    "$$X_1, \\dots, X_n \\sim \\mathcal N(\\theta, \\theta)$$"
   ]
  },
  {
   "cell_type": "markdown",
   "metadata": {},
   "source": [
    "\\begin{align*}\n",
    "L \n",
    "&= \\prod_{i=1}^n \\frac{1}{\\sqrt{2 \\pi \\theta}} \\exp\\Big(-\\frac{(X_i - \\theta)^2}{2 \\theta} \\Big) \\\\\n",
    "\\ell\n",
    "&= \\log L \\\\\n",
    "&= \\sum_{i=1}^n -\\frac{1}{2}\\log 2\\pi - \\frac{1}{2}\\log\\theta -\\frac{(X_i - \\theta)^2}{2 \\theta} \\\\\n",
    "&= - \\frac{n}{2}\\log 2\\pi - \\frac{n}{2}\\log\\theta - \\frac{1}{2\\theta}\\sum_{i=1}^n(X_i - \\theta)^2 \\\\\n",
    "&= - \\frac{n}{2}\\log 2\\pi - \\frac{n}{2}\\log\\theta - \\frac{1}{2\\theta}\\sum_{i=1}^n(X_i^2 - 2\\theta X_i + \\theta^2) \\\\\n",
    "&= - \\frac{n}{2}\\log 2\\pi - \\frac{n}{2}\\log\\theta - \\frac{1}{2\\theta}\\sum_{i=1}^nX_i^2 + \\sum_{i=1}^n X_i - \\frac{n\\theta}{2} \\\\\n",
    "\\end{align*}"
   ]
  },
  {
   "cell_type": "markdown",
   "metadata": {},
   "source": [
    "\\begin{align*}\n",
    "\\frac{\\partial \\ell}{\\partial \\theta}\n",
    "&= - \\frac{n}{2\\theta} + \\frac{1}{2\\theta^2} \\sum_{i=1}^n X_i^2 - \\frac{n}{2}\n",
    "\\end{align*}"
   ]
  },
  {
   "cell_type": "markdown",
   "metadata": {},
   "source": [
    "Set $\\frac{\\partial \\ell}{\\partial \\theta} = 0$, multiplying both sides by - $2\\theta^2$ and simplifying $\\sum_{i=1}^{n}$ to $\\sum$ for clarity,"
   ]
  },
  {
   "cell_type": "markdown",
   "metadata": {},
   "source": [
    "\\begin{align*}\n",
    "n\\theta - \\sum X_i^2 + n\\theta^2 &= 0 \\\\\n",
    "n\\theta^2 + n\\theta - \\sum X_i^2 &= 0 \\\\\n",
    "\\end{align*}"
   ]
  },
  {
   "cell_type": "markdown",
   "metadata": {},
   "source": [
    "Since variance should be non-negative, so the maximum likelihood estimator is "
   ]
  },
  {
   "cell_type": "markdown",
   "metadata": {},
   "source": [
    "\\begin{align*}\n",
    "\\hat \\theta^{\\text{MLE}}_n = \\theta\n",
    "&= \\frac{- 2n + \\sqrt{n^2 + 4n\\sum X_i^2}}{2n} \\\\\n",
    "&= -1 + \\sqrt{\\frac{n^2 + 4n\\sum X_i^2}{4n^2}} \\\\\n",
    "&= -1 + \\sqrt{\\frac{1}{4} + \\frac{\\sum X_i^2}{n}} \\\\\n",
    "\\end{align*}"
   ]
  },
  {
   "cell_type": "markdown",
   "metadata": {},
   "source": [
    "To show that the maximum likelihood estimator is consistent,"
   ]
  },
  {
   "cell_type": "markdown",
   "metadata": {},
   "source": [
    "\\begin{align*}\n",
    "\\lim_{n\\to \\infty} \\hat \\theta^{\\text{MLE}}_n\n",
    "&= \\lim_{n\\to \\infty} -1 + \\sqrt{\\frac{1}{4} + \\frac{\\sum X_i^2}{n}} \\\\\n",
    "&= -1 + \\sqrt{\\frac{1}{4} + \\theta + \\theta^2} \\\\\n",
    "&= -1 + \\sqrt{(\\frac{1}{2} + \\theta)^2} \\\\\n",
    "&= \\theta \\\\\n",
    "\\end{align*}"
   ]
  },
  {
   "cell_type": "markdown",
   "metadata": {},
   "source": [
    "The 2nd equality used the fact that "
   ]
  },
  {
   "cell_type": "markdown",
   "metadata": {},
   "source": [
    "$$\\mathbb{V}[X] = \\mathbb{E}[X^2] - [\\mathbb{E}[X]]^2$$"
   ]
  },
  {
   "cell_type": "markdown",
   "metadata": {},
   "source": [
    "So"
   ]
  },
  {
   "cell_type": "markdown",
   "metadata": {},
   "source": [
    "\\begin{align*}\n",
    "\\mathbb{E}[X^2] = \\mathbb{V}[X] + [\\mathbb{E}[X]]^2 = \\theta + \\theta^2\\\\\n",
    "\\end{align*}"
   ]
  }
 ],
 "metadata": {
  "kernelspec": {
   "display_name": "Python 3",
   "language": "python",
   "name": "python3"
  },
  "language_info": {
   "codemirror_mode": {
    "name": "ipython",
    "version": 3
   },
   "file_extension": ".py",
   "mimetype": "text/x-python",
   "name": "python",
   "nbconvert_exporter": "python",
   "pygments_lexer": "ipython3",
   "version": "3.6.4"
  }
 },
 "nbformat": 4,
 "nbformat_minor": 2
}
