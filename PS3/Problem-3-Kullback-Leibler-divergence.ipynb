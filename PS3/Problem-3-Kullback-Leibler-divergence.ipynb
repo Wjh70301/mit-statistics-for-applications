{
 "cells": [
  {
   "cell_type": "markdown",
   "metadata": {
    "nbpresent": {
     "id": "3e74754b-8f26-4293-8312-2d37e375deb5"
    }
   },
   "source": [
    "# 1"
   ]
  },
  {
   "cell_type": "markdown",
   "metadata": {},
   "source": [
    "Compute KL divergence of two Normal distributions with identical variance"
   ]
  },
  {
   "cell_type": "markdown",
   "metadata": {},
   "source": [
    "\\begin{align*}\n",
    "P &= \\mathcal{N}(a, \\sigma^2) \\\\\n",
    "Q &= \\mathcal{N}(b, \\sigma^2) \\\\\n",
    "\\end{align*}"
   ]
  },
  {
   "cell_type": "markdown",
   "metadata": {},
   "source": [
    "#### Ans"
   ]
  },
  {
   "cell_type": "markdown",
   "metadata": {},
   "source": [
    "\\begin{align*}\n",
    "p(x) &= \\frac{1}{\\sqrt{2 \\pi \\sigma^2}} \\exp-\\frac{(x-a)^2}{2\\sigma^2} \\\\\n",
    "q(x) &= \\frac{1}{\\sqrt{2 \\pi \\sigma^2}} \\exp-\\frac{(x-b)^2}{2\\sigma^2}\n",
    "\\end{align*}"
   ]
  },
  {
   "cell_type": "markdown",
   "metadata": {},
   "source": [
    "\\begin{align*}\n",
    "D_{KL}(P\\left|\\right|Q) \n",
    "&= \\int_{-\\infty}^{\\infty} p(x) \\log\\frac{p(x)}{q(x)}dx \\\\\n",
    "&= \\int_{-\\infty}^{\\infty} p(x) \\frac{(x - b)^2 - (x-a)^2}{2\\sigma^2}dx \\\\\n",
    "&= \\int_{-\\infty}^{\\infty} p(x) \\frac{b^2 - a^2 + 2(a-b)x}{2\\sigma^2}dx \\\\\n",
    "&= \\frac{b^2 - a^2}{2\\sigma^2}\\int_{-\\infty}^{\\infty} p(x)dx + \\frac{a-b}{\\sigma^2}\\int_{-\\infty}^{\\infty}p(x)xdx \\\\\n",
    "&= \\frac{b^2 - a^2}{2\\sigma^2} + \\frac{(a-b)a}{\\sigma^2} \\\\\n",
    "&= \\frac{b^2 - a^2 - 2(b-a)a}{2\\sigma^2} \\\\\n",
    "&= \\frac{(b-a)^2}{2\\sigma^2} \\\\\n",
    "&= \\frac{1}{2}\\Big(\\frac{b-a}{\\sigma}\\Big)^2 \\\\\n",
    "\\end{align*}"
   ]
  },
  {
   "cell_type": "markdown",
   "metadata": {},
   "source": [
    "# 2"
   ]
  },
  {
   "cell_type": "markdown",
   "metadata": {},
   "source": [
    "Compute KL divergence of two Bernoulli distributions"
   ]
  },
  {
   "cell_type": "markdown",
   "metadata": {},
   "source": [
    "\\begin{align*}\n",
    "P &= \\text{Ber}(a) \\\\\n",
    "Q &= \\text{Ber}(b) \\\\\n",
    "\\end{align*}"
   ]
  },
  {
   "cell_type": "markdown",
   "metadata": {},
   "source": [
    "\\begin{align*}\n",
    "D_{KL}(P\\left|\\right|Q) \n",
    "&= p_a(1)\\log\\frac{p_a(1)}{p_b(1)} + p_a(0)\\log\\frac{p_a(0)}{p_b(0)} \\\\\n",
    "&= a\\log\\frac{a}{b} + (1-a)\\log\\frac{1-a}{1-b} \\\\\n",
    "&= a\\log\\frac{a(1-b)}{b(1-a)} - \\log\\frac{1-b}{1-a} \\\\\n",
    "\\end{align*}"
   ]
  },
  {
   "cell_type": "markdown",
   "metadata": {},
   "source": [
    "The 3rd equality is just a simple rearrangement"
   ]
  }
 ],
 "metadata": {
  "kernelspec": {
   "display_name": "Python 3",
   "language": "python",
   "name": "python3"
  },
  "language_info": {
   "codemirror_mode": {
    "name": "ipython",
    "version": 3
   },
   "file_extension": ".py",
   "mimetype": "text/x-python",
   "name": "python",
   "nbconvert_exporter": "python",
   "pygments_lexer": "ipython3",
   "version": "3.6.4"
  }
 },
 "nbformat": 4,
 "nbformat_minor": 2
}
