{
 "cells": [
  {
   "cell_type": "markdown",
   "metadata": {},
   "source": [
    "# 1"
   ]
  },
  {
   "cell_type": "markdown",
   "metadata": {},
   "source": [
    "\\begin{align*}\n",
    "\\mathbb{E} [X_i] &= p\\\\\n",
    "\\mathbb{V}[X_i] \n",
    "& = \\frac{1}{n}\\sum_i^n (X_i - p)^2 \\\\\n",
    "&= \\frac{1}{n}\\sum_i^n (X_i^2 - 2 p X_i + p^2) \\\\\n",
    "&= \\frac{1}{n}(np - 2p^2 + p^2) \\\\\n",
    "&= \\frac{p(1-p)}{n} \\\\\n",
    "\\end{align*}"
   ]
  },
  {
   "cell_type": "markdown",
   "metadata": {},
   "source": [
    "Note that $\\sum_i^n X_i^2 = np$ since $X_i$ is $1$ or $0$, so $X_i = X_i^2$."
   ]
  },
  {
   "cell_type": "markdown",
   "metadata": {},
   "source": [
    "# 2"
   ]
  },
  {
   "cell_type": "markdown",
   "metadata": {},
   "source": [
    "\\begin{align*}\n",
    "\\lim_{n \\to \\infty} \\bar X_n(1 - \\bar X_n) = \\lim_{n \\to \\infty} \\bar X_n - \\bar X_n^2 = p - p^2 = p(1 -p )\n",
    "\\end{align*}"
   ]
  },
  {
   "cell_type": "markdown",
   "metadata": {},
   "source": [
    "so $\\bar X_n(1 - \\bar X_n)$ is a consistent estimator of $p(1 - p)$."
   ]
  },
  {
   "cell_type": "markdown",
   "metadata": {},
   "source": [
    "# 3"
   ]
  },
  {
   "cell_type": "markdown",
   "metadata": {},
   "source": [
    "\\begin{align*}\n",
    "\\mathbb{E}[\\bar X_n(1 - \\bar X_n)] = \\mathbb{E}[\\bar X_n] - \\mathbb{E}[\\bar X_n^2] \n",
    "\\end{align*}"
   ]
  },
  {
   "cell_type": "markdown",
   "metadata": {},
   "source": [
    "Note, $\\mathbb{V}[\\bar X_n] = \\mathbb{E}[\\bar X_n^2] - \\mathbb{E}[\\bar X_n]^2 $, so"
   ]
  },
  {
   "cell_type": "markdown",
   "metadata": {},
   "source": [
    "\\begin{align*}\n",
    "\\mathbb{E}[\\bar X_n^2] \n",
    "&= \\mathbb{E}[\\bar X_n]^2 + \\mathbb{V}[\\bar X_n] \\\\\n",
    "&= p^2 + \\frac{p(1 - p)}{n} \\\\\n",
    "\\end{align*}"
   ]
  },
  {
   "cell_type": "markdown",
   "metadata": {},
   "source": [
    "So"
   ]
  },
  {
   "cell_type": "markdown",
   "metadata": {},
   "source": [
    "\\begin{align*}\n",
    "\\mathbb{E}[\\bar X_n(1 - \\bar X_n)] \n",
    "&= p - p^2 + \\frac{p(1 - p)}{n} \\\\\n",
    "&= \\frac{n + 1}{n}p (1 - p)\n",
    "\\end{align*}"
   ]
  },
  {
   "cell_type": "markdown",
   "metadata": {},
   "source": [
    "and $\\mathbb{E}[\\bar X_n(1 - \\bar X_n)]$ is a biased estimator of $p(1-p)$."
   ]
  },
  {
   "cell_type": "markdown",
   "metadata": {},
   "source": [
    "# 4"
   ]
  },
  {
   "cell_type": "markdown",
   "metadata": {},
   "source": [
    "An unbiased estimator would be \n",
    "\n",
    "$$\\frac{n}{n + 1}X_n(1 - \\bar X_n)$$"
   ]
  }
 ],
 "metadata": {
  "kernelspec": {
   "display_name": "Python [default]",
   "language": "python",
   "name": "python3"
  },
  "language_info": {
   "codemirror_mode": {
    "name": "ipython",
    "version": 3
   },
   "file_extension": ".py",
   "mimetype": "text/x-python",
   "name": "python",
   "nbconvert_exporter": "python",
   "pygments_lexer": "ipython3",
   "version": "3.6.4"
  }
 },
 "nbformat": 4,
 "nbformat_minor": 2
}
