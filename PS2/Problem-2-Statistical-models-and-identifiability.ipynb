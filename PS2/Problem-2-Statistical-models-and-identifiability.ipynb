{
 "cells": [
  {
   "cell_type": "markdown",
   "metadata": {},
   "source": [
    "1\\. $X \\sim \\frac{\\lambda^k e^{-\\lambda}}{k!}$, parameter of interest: $\\lambda$"
   ]
  },
  {
   "cell_type": "markdown",
   "metadata": {},
   "source": [
    "2\\. $X \\sim \\lambda e^{-\\lambda x}$, $\\lambda \\le 10$, parameter of interest: $\\lambda$"
   ]
  },
  {
   "cell_type": "markdown",
   "metadata": {},
   "source": [
    "3\\. $X \\sim \\rm{Uniform}(0, \\theta)$, parameter of interest: $\\theta$"
   ]
  },
  {
   "cell_type": "markdown",
   "metadata": {},
   "source": [
    "4\\. $X \\to \\frac{1}{\\sqrt{2\\pi \\sigma^2}} e^{\\frac{(x - \\mu)^2}{2 \\sigma^2}}$, parameter of interest: $\\mu, \\sigma$"
   ]
  },
  {
   "cell_type": "markdown",
   "metadata": {},
   "source": [
    "5\\. Just observing the sign won't identify the parameter of interest for Gaussian random variables, it will be more like a Bernoulli r.v."
   ]
  },
  {
   "cell_type": "markdown",
   "metadata": {},
   "source": [
    "6\\. Not sure of the description of the question"
   ]
  },
  {
   "cell_type": "markdown",
   "metadata": {},
   "source": [
    "7\\. The survey should ask the amount of commute time instead of just whether the commute time is at least 20 min, which would make it like a Bernoulli r.v., so the experiment won't identify the parameter of interest, the average commute time of Bostonians"
   ]
  },
  {
   "cell_type": "markdown",
   "metadata": {},
   "source": [
    "8\\. The machine lifetime is $X \\sim \\lambda e^{-\\lambda x}$, $\\lambda \\le 10$ with the parameter of interest being $\\lambda$"
   ]
  }
 ],
 "metadata": {
  "kernelspec": {
   "display_name": "Python [default]",
   "language": "python",
   "name": "python3"
  },
  "language_info": {
   "codemirror_mode": {
    "name": "ipython",
    "version": 3
   },
   "file_extension": ".py",
   "mimetype": "text/x-python",
   "name": "python",
   "nbconvert_exporter": "python",
   "pygments_lexer": "ipython3",
   "version": "3.6.4"
  }
 },
 "nbformat": 4,
 "nbformat_minor": 2
}
