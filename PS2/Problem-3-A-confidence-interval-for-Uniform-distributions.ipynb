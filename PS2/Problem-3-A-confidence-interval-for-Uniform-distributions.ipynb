{
 "cells": [
  {
   "cell_type": "markdown",
   "metadata": {},
   "source": [
    "# 1"
   ]
  },
  {
   "cell_type": "markdown",
   "metadata": {},
   "source": [
    "First, we calculate the cumulative distribution of $M_n$."
   ]
  },
  {
   "cell_type": "markdown",
   "metadata": {},
   "source": [
    "\\begin{align*}\n",
    "F_{M_n}(x) \n",
    "&= P(M_n \\le x) \\\\\n",
    "&= P(\\max_{i=1,\\cdots, n}(X_i) \\le x) \\\\\n",
    "&= P(X_1 \\le x, X_2 \\le x, \\cdots X_n \\le x) \\\\\n",
    "&= \\Big(\\frac{x}{\\theta}\\Big)^n\n",
    "\\end{align*}"
   ]
  },
  {
   "cell_type": "markdown",
   "metadata": {},
   "source": [
    "For any $x \\lt \\theta$, since $\\lim_{n\\to\\infty} F_{M_n}(x) = 0$, $M_n \\xrightarrow[n \\to \\infty]{\\mathbb{P}} \\theta$."
   ]
  },
  {
   "cell_type": "markdown",
   "metadata": {},
   "source": [
    "# 2"
   ]
  },
  {
   "cell_type": "markdown",
   "metadata": {},
   "source": [
    "Let $Y_n = n(1 - M_n / \\theta)$, then"
   ]
  },
  {
   "cell_type": "markdown",
   "metadata": {},
   "source": [
    "\\begin{align*}\n",
    "F_{Y_n}(y) \n",
    "&=\\mathbb{P}(n(1 - M_n / \\theta) \\le y) \\\\\n",
    "&=\\mathbb{P}\\Big(M_n \\ge \\theta \\big(1 - \\frac{y}{n}\\big) \\Big) \\\\\n",
    "&=1 - \\mathbb{P}\\Big(M_n < \\theta \\big(1 - \\frac{y}{n}\\big) \\Big) \\\\\n",
    "&=1 - F_{M_n}\\Big(\\theta \\big(1 - \\frac{y}{n}\\big)\\Big) \\\\\n",
    "&=1 - \\big(1 - \\frac{y}{n}\\big)^n\n",
    "\\end{align*}"
   ]
  },
  {
   "cell_type": "markdown",
   "metadata": {},
   "source": [
    "$$\\lim_{n \\to \\infty}F_{Y_n} = 1 - e^{-y}$$"
   ]
  },
  {
   "cell_type": "code",
   "execution_count": null,
   "metadata": {},
   "outputs": [],
   "source": []
  }
 ],
 "metadata": {
  "kernelspec": {
   "display_name": "Python [default]",
   "language": "python",
   "name": "python3"
  },
  "language_info": {
   "codemirror_mode": {
    "name": "ipython",
    "version": 3
   },
   "file_extension": ".py",
   "mimetype": "text/x-python",
   "name": "python",
   "nbconvert_exporter": "python",
   "pygments_lexer": "ipython3",
   "version": "3.6.4"
  }
 },
 "nbformat": 4,
 "nbformat_minor": 2
}
