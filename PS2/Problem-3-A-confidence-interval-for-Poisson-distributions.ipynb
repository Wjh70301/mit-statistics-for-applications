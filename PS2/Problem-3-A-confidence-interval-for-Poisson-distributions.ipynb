{
 "cells": [
  {
   "cell_type": "markdown",
   "metadata": {},
   "source": [
    "# 1"
   ]
  },
  {
   "cell_type": "markdown",
   "metadata": {},
   "source": [
    "Since $X_i$ is a Poisson random variable, then"
   ]
  },
  {
   "cell_type": "markdown",
   "metadata": {},
   "source": [
    "\\begin{align*}\n",
    "\\mathbb{E}(X_i) &= \\lambda \\\\\n",
    "\\mathbb{V}(X_i) &= \\lambda \\\\\n",
    "\\mathbb{E}(\\bar X_n) &= \\lambda \\\\\n",
    "\\mathbb{V}(\\bar X_n) &= \\lambda / n \\\\\n",
    "\\end{align*}"
   ]
  },
  {
   "cell_type": "markdown",
   "metadata": {},
   "source": [
    "According to central limit theorem,\n",
    "\n",
    "$$\\bar X_n \\xrightarrow[n \\to \\infty]{(d)} \\mathcal{N}(\\lambda, \\frac{\\lambda}{n})$$"
   ]
  },
  {
   "cell_type": "markdown",
   "metadata": {},
   "source": [
    "Let "
   ]
  },
  {
   "cell_type": "markdown",
   "metadata": {},
   "source": [
    "\\begin{align*}\n",
    "a_n &= \\frac{1}{\\sqrt{\\lambda /n}} \\\\\n",
    "b_n &= \\lambda \\\\\n",
    "\\end{align*}"
   ]
  },
  {
   "cell_type": "markdown",
   "metadata": {},
   "source": [
    "Then,\n",
    "$$a_n(\\bar X_n - b_n) = \\frac{\\bar X_n - \\lambda}{\\sqrt{\\lambda / n}} \\xrightarrow[n \\to \\infty]{(d)} \\mathcal{N}(0, 1)$$"
   ]
  },
  {
   "cell_type": "markdown",
   "metadata": {},
   "source": [
    "# 2"
   ]
  },
  {
   "cell_type": "markdown",
   "metadata": {},
   "source": [
    "\\begin{align*}\n",
    "P(\\left|Z\\right| \\le t)\n",
    "&= P(-t \\le Z \\le t) \\\\\n",
    "&= P(Z \\le t) - P(Z \\le -t) \\\\\n",
    "&= P(Z \\le t) - (1 - P(Z \\le -t)) \\\\\n",
    "&= 2P(Z \\le t) - 1 \\\\\n",
    "\\end{align*}"
   ]
  },
  {
   "cell_type": "markdown",
   "metadata": {},
   "source": [
    "# 3"
   ]
  },
  {
   "cell_type": "markdown",
   "metadata": {},
   "source": [
    "\\begin{align*}\n",
    "P(\\left|Z\\right| \\le t)\n",
    "&= P(-t \\le \\frac{\\bar X_n - \\lambda}{\\sqrt{\\lambda / n}} \\le t) \\\\\n",
    "&= P\\Big(\\bar X_n - t \\sqrt{\\frac{\\lambda}{n}} \\le \\lambda \\le \\bar X_n + t \\sqrt{\\frac{\\lambda}{n}}\\Big) \\\\\n",
    "\\end{align*}"
   ]
  },
  {
   "cell_type": "markdown",
   "metadata": {},
   "source": [
    "Let $t_0 = 1.96$, then "
   ]
  },
  {
   "cell_type": "markdown",
   "metadata": {},
   "source": [
    "$$\\mathcal{I} = \\Big[\\bar X_n - t_0 \\sqrt{\\frac{\\lambda}{n}}, \\bar X_n + t_0 \\sqrt{\\frac{\\lambda}{n}}\\Big]$$"
   ]
  },
  {
   "cell_type": "markdown",
   "metadata": {},
   "source": [
    "# 4"
   ]
  },
  {
   "cell_type": "markdown",
   "metadata": {},
   "source": [
    "We have "
   ]
  },
  {
   "cell_type": "markdown",
   "metadata": {},
   "source": [
    "\\begin{align*}\n",
    "\\bar X_n &\\xrightarrow[n \\to \\infty]{\\mathbb{P}} \\lambda \\\\\n",
    "\\bar X_n - \\lambda &\\xrightarrow[n \\to \\infty]{(d)} \\mathcal{N}\\Big(0, \\frac{\\lambda}{n}\\Big) \\\\\n",
    "\\end{align*}"
   ]
  },
  {
   "cell_type": "markdown",
   "metadata": {},
   "source": [
    "Let $g(x) = \\sqrt{x}$, then using Delta method,"
   ]
  },
  {
   "cell_type": "markdown",
   "metadata": {},
   "source": [
    "$$\\sqrt{\\bar X_n} - \\sqrt{\\lambda} \\xrightarrow[n \\to \\infty]{(d)} \\mathcal{N}\\Big(0, g'(\\lambda)^2 \\frac{\\lambda}{n}\\Big)$$"
   ]
  },
  {
   "cell_type": "markdown",
   "metadata": {},
   "source": [
    "So,"
   ]
  },
  {
   "cell_type": "markdown",
   "metadata": {},
   "source": [
    "\\begin{align*}\n",
    "\\sqrt{\\bar X_n} &\\xrightarrow[n \\to \\infty]{(d)} \\mathcal{N}\\Big(\\sqrt{\\lambda}, g'(\\lambda)^2 \\frac{\\lambda}{n}\\Big) \\\\\n",
    "\\sqrt{\\bar X_n} &\\xrightarrow[n \\to \\infty]{\\mathbb{P}} \\sqrt{\\lambda} \\\\\n",
    "\\sqrt{\\frac{\\bar X_n}{n}} &\\xrightarrow[n \\to \\infty]{\\mathbb{P}} \\sqrt{\\frac{\\lambda}{n}} \n",
    "\\end{align*}"
   ]
  },
  {
   "cell_type": "markdown",
   "metadata": {},
   "source": [
    "By Slutsky' theorem,"
   ]
  },
  {
   "cell_type": "markdown",
   "metadata": {},
   "source": [
    "$$\\bar X_n \\pm t_0 \\sqrt{\\frac{\\bar X_n}{n}} \\xrightarrow[n \\to \\infty]{\\mathbb{P}} \\bar X_n \\pm t_0 \\sqrt{\\frac{\\lambda}{n}}$$"
   ]
  },
  {
   "cell_type": "markdown",
   "metadata": {},
   "source": [
    "Hence,"
   ]
  },
  {
   "cell_type": "markdown",
   "metadata": {},
   "source": [
    "$$\\mathcal{J} = \\Big[\\bar X_n - t_0 \\sqrt{\\frac{\\bar X_n}{n}}, \\bar X_n + t_0 \\sqrt{\\frac{\\bar X_n}{n}}\\Big]$$"
   ]
  },
  {
   "cell_type": "markdown",
   "metadata": {},
   "source": [
    "Note, this derivation follows exactly the same idea in PS1-3-7, in which case $\\bar X_n$ is an average of a sequence of Bernoulli r.v. instead of Poisson r.v.."
   ]
  }
 ],
 "metadata": {
  "kernelspec": {
   "display_name": "Python [default]",
   "language": "python",
   "name": "python3"
  },
  "language_info": {
   "codemirror_mode": {
    "name": "ipython",
    "version": 3
   },
   "file_extension": ".py",
   "mimetype": "text/x-python",
   "name": "python",
   "nbconvert_exporter": "python",
   "pygments_lexer": "ipython3",
   "version": "3.6.4"
  }
 },
 "nbformat": 4,
 "nbformat_minor": 2
}
