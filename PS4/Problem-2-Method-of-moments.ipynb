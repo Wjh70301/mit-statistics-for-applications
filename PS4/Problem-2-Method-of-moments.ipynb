{
 "cells": [
  {
   "cell_type": "markdown",
   "metadata": {
    "nbpresent": {
     "id": "3e74754b-8f26-4293-8312-2d37e375deb5"
    }
   },
   "source": [
    "# 1. Bernoulii distribution"
   ]
  },
  {
   "cell_type": "markdown",
   "metadata": {},
   "source": [
    "\\begin{align*}\n",
    "\\mathbb{P}_p[X=x] = p^x(1-p)^{1-x}, \\;\\;\\;  x \\in \\{0, 1\\}\n",
    "\\end{align*}"
   ]
  },
  {
   "cell_type": "markdown",
   "metadata": {},
   "source": [
    "$$\\mathbb{E}_p[X] = p$$"
   ]
  },
  {
   "cell_type": "markdown",
   "metadata": {},
   "source": [
    "so \n",
    "\n",
    "$$\\hat p_n = \\frac{1}{n}\\sum_{i=1}^{n}X_i = \\overline X$$"
   ]
  },
  {
   "cell_type": "markdown",
   "metadata": {},
   "source": [
    "# 2. Poisson distribution"
   ]
  },
  {
   "cell_type": "markdown",
   "metadata": {},
   "source": [
    "\\begin{align*}\n",
    "\\mathbb{P}_{\\lambda}[X=x] \n",
    "&= e^{-\\lambda}\\frac{\\lambda ^x}{x!}, \\;\\;\\; \\forall x \\in \\mathbb{N} \\\\\n",
    "\\end{align*}"
   ]
  },
  {
   "cell_type": "markdown",
   "metadata": {},
   "source": [
    "$$\\mathbb{E}_{\\lambda}[X] = \\lambda$$"
   ]
  },
  {
   "cell_type": "markdown",
   "metadata": {},
   "source": [
    "so "
   ]
  },
  {
   "cell_type": "markdown",
   "metadata": {},
   "source": [
    "$$\\hat \\lambda_n = \\frac{1}{n}\\sum X_i = \\overline X$$"
   ]
  },
  {
   "cell_type": "markdown",
   "metadata": {},
   "source": [
    "# 3. Exponential distribution"
   ]
  },
  {
   "cell_type": "markdown",
   "metadata": {},
   "source": [
    "\\begin{align*}\n",
    "f_{\\lambda}(x)\n",
    "&= \\lambda e^{-\\lambda x}, \\;\\;\\; \\forall x > 0 \\\\\n",
    "\\end{align*}"
   ]
  },
  {
   "cell_type": "markdown",
   "metadata": {},
   "source": [
    "$$\\mathbb{E}_{\\lambda}[X] = \\frac{1}{\\lambda}$$"
   ]
  },
  {
   "cell_type": "markdown",
   "metadata": {},
   "source": [
    "So"
   ]
  },
  {
   "cell_type": "markdown",
   "metadata": {},
   "source": [
    "Set $\\frac{d \\ell}{d\\lambda} = 0$, we obtain,"
   ]
  },
  {
   "cell_type": "markdown",
   "metadata": {},
   "source": [
    "$$\\hat \\lambda_n = \\frac{n}{\\sum X_i} = \\frac{1}{\\overline X}$$"
   ]
  },
  {
   "cell_type": "markdown",
   "metadata": {},
   "source": [
    "# 4. Gaussian distribution"
   ]
  },
  {
   "cell_type": "markdown",
   "metadata": {},
   "source": [
    "\\begin{align*}\n",
    "f_{\\mu, \\sigma^2}(x)\n",
    "&= \\frac{1}{\\sqrt{2 \\pi \\sigma^2}}\\exp\\Big({-\\frac{(x-\\mu)^2}{2\\sigma^2}}\\Big) \\\\\n",
    "\\end{align*}"
   ]
  },
  {
   "cell_type": "markdown",
   "metadata": {},
   "source": [
    "\\begin{align*}\n",
    "\\mathbb{E}_{\\mu, \\sigma^2}[X] \n",
    "&= \\mu \\\\\n",
    "\\mathbb{E}_{\\mu, \\sigma^2}[X^2] \n",
    "&= \\mathbb{V}_{\\mu, \\sigma^2}[X] + \\mathbb{E}_{\\mu, \\sigma^2}[X]^2 \\\\\n",
    "&= \\sigma^2 + \\mu^2\n",
    "\\end{align*}"
   ]
  },
  {
   "cell_type": "markdown",
   "metadata": {},
   "source": [
    "So"
   ]
  },
  {
   "cell_type": "markdown",
   "metadata": {},
   "source": [
    "\\begin{align*}\n",
    "\\hat \\mu_n\n",
    "&= \\frac{\\sum X_i}{n} = \\overline X\\\\\n",
    "\\hat \\sigma^2_n\n",
    "&= \\overline{X^2} - (\\overline X)^2 \\\\\n",
    "& = \\frac{1}{n}\\sum (X_i - \\overline X)^2\n",
    "\\end{align*}"
   ]
  },
  {
   "cell_type": "markdown",
   "metadata": {},
   "source": [
    "# 5. Shifted exponential distribution"
   ]
  },
  {
   "cell_type": "markdown",
   "metadata": {},
   "source": [
    "\\begin{align*}\n",
    "f_{\\lambda, a}(x)\n",
    "&= \\lambda e^{-\\lambda (x - a)} \\mathbb{1}_{x \\ge a}, \\;\\;\\; \\forall x \\in \\mathbb{R} \\\\\n",
    "\\end{align*}"
   ]
  },
  {
   "cell_type": "markdown",
   "metadata": {},
   "source": [
    "\\begin{align*}\n",
    "\\mathbb{E}_{\\lambda, a}[X]\n",
    "&= \\frac{1}{\\lambda} + a \\\\\n",
    "\\mathbb{E}_{\\lambda, a}[X^2]\n",
    "&= \\mathbb{V}_{\\lambda, a}[X] + \\mathbb{E}_{\\lambda, a}[X]^2 \\\\\n",
    "&= \\frac{1}{\\lambda^2} + \\Big(\\frac{1}{\\lambda} + a\\Big)^2 \\\\\n",
    "\\end{align*}"
   ]
  },
  {
   "cell_type": "markdown",
   "metadata": {},
   "source": [
    "Note that \n",
    "\n",
    "* the mean of shifted exponential distribution is shifted by $a$ compared to the mean of exponential distribution (confirmed myself, following the logic of proof for the mean of exponential distribution: https://www.statlect.com/probability-distributions/exponential-distribution)\n",
    "* the variance of shifted exponential distribution is the same as that of exponential distribution"
   ]
  },
  {
   "cell_type": "markdown",
   "metadata": {},
   "source": [
    "So we have two equations with two unknown variables,"
   ]
  },
  {
   "cell_type": "markdown",
   "metadata": {},
   "source": [
    "\\begin{align*}\n",
    "\\overline X \n",
    "&= \\frac{1}{\\hat \\lambda} + \\hat a \\\\\n",
    "\\overline {X^2}\n",
    "&= \\frac{1}{{\\hat \\lambda}^2} + \\Big(\\frac{1}{\\hat \\lambda} + \\hat a\\Big)^2 \\\\\n",
    "\\end{align*}"
   ]
  },
  {
   "cell_type": "markdown",
   "metadata": {},
   "source": [
    "solving the equations, we obtain"
   ]
  },
  {
   "cell_type": "markdown",
   "metadata": {},
   "source": [
    "\\begin{align*}\n",
    "\\hat \\lambda \n",
    "&= \\frac{1}{\\sqrt{\\overline {X^2} - (\\overline X)^2}} \\\\\n",
    "&= \\sqrt{\\frac{n}{\\sum (X_i - \\overline X)^2}} \\\\\n",
    "\\hat a \n",
    "&= \\overline X - \\frac{1}{\\hat \\lambda}  \\\\\n",
    "&= \\overline X - \\sqrt{\\frac{\\sum (X_i - \\overline X)^2}{n}} \\\\\n",
    "\\end{align*}"
   ]
  },
  {
   "cell_type": "markdown",
   "metadata": {},
   "source": [
    "# 6. Log-normal distribution"
   ]
  },
  {
   "cell_type": "markdown",
   "metadata": {},
   "source": [
    "\\begin{align*}\n",
    "f_{\\mu, \\sigma^2}(x)\n",
    "&= \\frac{1}{x\\sqrt{2\\pi\\sigma^2}}\\exp\\Big(-\\frac{1}{2\\sigma^2}(\\ln x - \\mu)^2\\Big), \\;\\;\\; \\forall x > 0 \\\\\n",
    "\\end{align*}"
   ]
  },
  {
   "cell_type": "markdown",
   "metadata": {},
   "source": [
    "\\begin{align*}\n",
    "\\mathbb{E}_{\\mu, \\sigma^2}[X]\n",
    "&= \\exp\\Big(\\mu + \\frac{\\sigma^2}{2}\\Big) \\\\\n",
    "\\mathbb{E}_{\\lambda, a}[X^2]\n",
    "&= \\mathbb{V}_{\\lambda, a}[X] + \\mathbb{E}_{\\lambda, a}[X]^2 \\\\\n",
    "&= (\\exp{\\sigma^2} - 1) \\exp(2\\mu + \\sigma^2) \\\\\n",
    "\\end{align*}"
   ]
  },
  {
   "cell_type": "markdown",
   "metadata": {},
   "source": [
    "Taking logarithm on both sides, we have"
   ]
  },
  {
   "cell_type": "markdown",
   "metadata": {},
   "source": [
    "\\begin{align*}\n",
    "\\ln \\overline{X}\n",
    "&= \\hat \\mu + \\frac{\\hat \\sigma^2}{2} \\\\\n",
    "\\ln \\overline{X^2} \n",
    "&= (\\hat \\sigma^2 - 1) + (2\\mu + \\sigma^2) = 2\\mu + 2\\sigma^2 -1\n",
    "\\end{align*}"
   ]
  },
  {
   "cell_type": "markdown",
   "metadata": {},
   "source": [
    "Sovling the equations,"
   ]
  },
  {
   "cell_type": "markdown",
   "metadata": {},
   "source": [
    "\\begin{align*}\n",
    "\\sigma^2\n",
    "&= \\ln \\overline{X^2} - 2 \\ln \\overline X + 1 \\\\\n",
    "\\mu\n",
    "&= - \\frac{1}{2}{\\overline{X^2}} + 2\\ln \\overline X  - \\frac{1}{2}\n",
    "\\end{align*}"
   ]
  },
  {
   "cell_type": "markdown",
   "metadata": {},
   "source": [
    "**Remark**: for **shifted exponential** and **log-normal** distributions, the moment of methods estimators seem to be very different from those of maximum likelihood estimators as in Problem 1, it would be interesting to investigate why and for comparison of the two ways of parametric inference."
   ]
  }
 ],
 "metadata": {
  "kernelspec": {
   "display_name": "Python 3",
   "language": "python",
   "name": "python3"
  },
  "language_info": {
   "codemirror_mode": {
    "name": "ipython",
    "version": 3
   },
   "file_extension": ".py",
   "mimetype": "text/x-python",
   "name": "python",
   "nbconvert_exporter": "python",
   "pygments_lexer": "ipython3",
   "version": "3.6.4"
  }
 },
 "nbformat": 4,
 "nbformat_minor": 2
}
