{
 "cells": [
  {
   "cell_type": "markdown",
   "metadata": {
    "nbpresent": {
     "id": "3e74754b-8f26-4293-8312-2d37e375deb5"
    }
   },
   "source": [
    "# 1"
   ]
  },
  {
   "cell_type": "markdown",
   "metadata": {},
   "source": [
    "$X_i$ follows a Bernoulii distribution"
   ]
  },
  {
   "cell_type": "markdown",
   "metadata": {},
   "source": [
    "# 2"
   ]
  },
  {
   "cell_type": "markdown",
   "metadata": {},
   "source": [
    "According to Central Limit Theorem,\n",
    "\n",
    "$$\\overline X_n \\sim \\mathcal{N}\\Big(p, \\frac{p(1 - p)}{n}\\Big)$$"
   ]
  },
  {
   "cell_type": "markdown",
   "metadata": {},
   "source": [
    "where $p$ is the percentage of people with salary larger than the threshold $z$."
   ]
  },
  {
   "cell_type": "markdown",
   "metadata": {},
   "source": [
    "TODO: Could try to derive CLT for Ber."
   ]
  },
  {
   "cell_type": "markdown",
   "metadata": {},
   "source": [
    "# 3"
   ]
  },
  {
   "cell_type": "markdown",
   "metadata": {},
   "source": [
    "Exponential distribution:"
   ]
  },
  {
   "cell_type": "markdown",
   "metadata": {},
   "source": [
    "$$\\mathbb{P}[X=x] = \\lambda e^{-\\lambda x}$$"
   ]
  },
  {
   "cell_type": "markdown",
   "metadata": {},
   "source": [
    "Based on defintion,"
   ]
  },
  {
   "cell_type": "markdown",
   "metadata": {},
   "source": [
    "\\begin{align*}\n",
    "p \n",
    "&= \\int_z^{\\infty} \\lambda e^{-\\lambda}xdx \\\\\n",
    "&= \\big[-e^{-\\lambda x} \\big]_z^{\\infty} \\\\\n",
    "&= e^{-\\lambda z}\n",
    "\\end{align*}"
   ]
  },
  {
   "cell_type": "markdown",
   "metadata": {},
   "source": [
    "So"
   ]
  },
  {
   "cell_type": "markdown",
   "metadata": {},
   "source": [
    "\\begin{align*}\n",
    "\\hat p &= \\overline X_n = e^{-\\hat \\lambda z} \\\\\n",
    "\\hat \\lambda &= -\\frac{\\ln \\overline X_n}{z}\n",
    "\\end{align*}"
   ]
  },
  {
   "cell_type": "markdown",
   "metadata": {},
   "source": [
    "# 4"
   ]
  },
  {
   "cell_type": "markdown",
   "metadata": {},
   "source": [
    "According to the Delta Method (https://en.wikipedia.org/wiki/Delta_method),"
   ]
  },
  {
   "cell_type": "markdown",
   "metadata": {},
   "source": [
    "When \n",
    "\n",
    "$$\\overline X_n \\sim \\mathcal{N}\\Big(\\mu, \\frac{\\sigma^2}{n}\\Big)$$"
   ]
  },
  {
   "cell_type": "markdown",
   "metadata": {},
   "source": [
    "then"
   ]
  },
  {
   "cell_type": "markdown",
   "metadata": {},
   "source": [
    "\\begin{align*}\n",
    "g(\\overline X_n) \n",
    "&\\sim \\mathcal{N}\\Big(g(\\overline X_n), \\big(g'(\\mu)\\big)^2\\frac{\\sigma^2}{n}\\Big)\n",
    "\\end{align*}"
   ]
  },
  {
   "cell_type": "markdown",
   "metadata": {},
   "source": [
    "Here,"
   ]
  },
  {
   "cell_type": "markdown",
   "metadata": {},
   "source": [
    "\\begin{align*}\n",
    "\\overline X_n \n",
    "&\\sim \\mathcal{N}\\Big(p, \\frac{p(1 - p)}{n}\\Big) \\\\\n",
    "g(\\overline X_n)\n",
    "&= \\hat \\lambda = -\\frac{\\ln \\overline X_n}{z} \\\\\n",
    "g(p)'\n",
    "&=-\\frac{1}{p z}\n",
    "\\end{align*}"
   ]
  },
  {
   "cell_type": "markdown",
   "metadata": {},
   "source": [
    "So"
   ]
  },
  {
   "cell_type": "markdown",
   "metadata": {},
   "source": [
    "\\begin{align*}\n",
    "\\hat \\lambda\n",
    "&\\sim \\mathcal{N}\\Big(-\\frac{\\ln p}{z}, \\frac{1}{(p z)^2}\\frac{p(1-p)}{n}\\Big) \\\\\n",
    "&=  \\mathcal{N}\\Big(-\\frac{\\ln p}{z}, \\frac{1-p}{npz^2}\\Big) \\\\\n",
    "\\end{align*}"
   ]
  },
  {
   "cell_type": "markdown",
   "metadata": {},
   "source": [
    "I also asked a variant of this question on https://stats.stackexchange.com/questions/385131/is-logarithm-of-the-mean-of-bernoulli-random-variables-log-overline-x-stil"
   ]
  },
  {
   "cell_type": "markdown",
   "metadata": {},
   "source": [
    "# 5"
   ]
  },
  {
   "cell_type": "markdown",
   "metadata": {},
   "source": [
    "The asymptotic variance:"
   ]
  },
  {
   "cell_type": "markdown",
   "metadata": {},
   "source": [
    "\\begin{align*}\n",
    "V\n",
    "&= \\frac{1-p}{npz^2} \\\\\n",
    "&= \\frac{1}{n}z^{-2}\\Big(\\frac{1}{p} - 1\\Big) \\\\\n",
    "&= \\frac{1}{n}z^{-2}\\Big(e^{\\lambda z} - 1\\Big) \\\\\n",
    "\\end{align*}"
   ]
  },
  {
   "cell_type": "markdown",
   "metadata": {},
   "source": [
    "Taking derivative and set it to 0,"
   ]
  },
  {
   "cell_type": "markdown",
   "metadata": {},
   "source": [
    "\\begin{align*}\n",
    "\\frac{\\partial V}{\\partial z}\n",
    "= -\\frac{2}{n}z^{-3}\\big(e^{\\lambda z} - 1\\big) + \\frac{\\lambda}{n}z^{-2}e^{\\lambda z} &= 0 \\\\ \n",
    "-2\\big(e^{\\lambda z} - 1\\big) + \\lambda z e^{\\lambda z} &= 0 \\\\\n",
    "e^{\\lambda z}(2 - \\lambda z) &= 2 \\\\\n",
    "\\end{align*}"
   ]
  },
  {
   "cell_type": "markdown",
   "metadata": {},
   "source": [
    "We obtain (with help of https://www.wolframalpha.com/input/?i=solve+z+for+z+in+e%5E%7B%5Clambda+z%7D(2-%5Clambda+z)+%3D+2)"
   ]
  },
  {
   "cell_type": "markdown",
   "metadata": {},
   "source": [
    "$$g_{\\lambda}(z) = \\frac{W\\Big(-\\frac{2}{e^2}\\Big) + 2}{\\lambda}$$"
   ]
  },
  {
   "cell_type": "markdown",
   "metadata": {},
   "source": [
    "$W$ is the Lambert W function (http://mathworld.wolfram.com/LambertW-Function.html)."
   ]
  },
  {
   "cell_type": "markdown",
   "metadata": {},
   "source": [
    "# 6"
   ]
  },
  {
   "cell_type": "markdown",
   "metadata": {},
   "source": [
    "#### (a)"
   ]
  },
  {
   "cell_type": "markdown",
   "metadata": {},
   "source": [
    "The problem description says taht $Y$ shall follow a exponential distribution,"
   ]
  },
  {
   "cell_type": "markdown",
   "metadata": {},
   "source": [
    "$$\\mathbb{P}[Y = y] = \\lambda e^{-\\lambda y}$$"
   ]
  },
  {
   "cell_type": "markdown",
   "metadata": {},
   "source": [
    "#### (b)"
   ]
  },
  {
   "cell_type": "markdown",
   "metadata": {},
   "source": [
    "The Fisher information of an exponential distribution has been shown in Problem-1, so"
   ]
  },
  {
   "cell_type": "markdown",
   "metadata": {},
   "source": [
    "$$I_Y(\\lambda) = \\frac{1}{\\lambda^2}$$"
   ]
  },
  {
   "cell_type": "markdown",
   "metadata": {},
   "source": [
    "#### (c)"
   ]
  },
  {
   "cell_type": "markdown",
   "metadata": {},
   "source": [
    "When only $X_i$'s are obversed, the model is Bernoulli distribution, and the corresponding Fisher information has already been derived in Problem-1,"
   ]
  },
  {
   "cell_type": "markdown",
   "metadata": {},
   "source": [
    "\\begin{align*}\n",
    "I_X(\\lambda) \n",
    "&= \\frac{1}{p} + \\frac{1}{1-p} \\\\\n",
    "&= \\frac{1}{e^{-\\lambda z}} + \\frac{1}{1 - e^{-\\lambda z}} \\\\\n",
    "&= \\frac{1}{e^{-\\lambda z}(1 - e^{-\\lambda z})} \\\\\n",
    "&= \\frac{e^{\\lambda z}}{1 - e^{-\\lambda z}} \\\\\n",
    "\\end{align*}"
   ]
  },
  {
   "cell_type": "markdown",
   "metadata": {},
   "source": [
    "#### (d)"
   ]
  },
  {
   "cell_type": "markdown",
   "metadata": {},
   "source": [
    "* For $I_Y(\\lambda)$, the larger the $\\lambda$, the less the Fisher information.\n",
    "* $I_X(\\lambda)$ is a function of $p = e^{-\\lambda z}$ and $p \\in (0, 1)$, so $I_X(\\lambda)$ decreases first when $p$ goes up from 0, and then increases again when $p$ goes close to 1. $I_X(\\lambda) > 4$."
   ]
  },
  {
   "cell_type": "code",
   "execution_count": null,
   "metadata": {},
   "outputs": [],
   "source": []
  },
  {
   "cell_type": "markdown",
   "metadata": {},
   "source": [
    "# Debug"
   ]
  },
  {
   "cell_type": "code",
   "execution_count": 54,
   "metadata": {},
   "outputs": [],
   "source": [
    "p = np.arange(0.001, 1, 0.01)"
   ]
  },
  {
   "cell_type": "code",
   "execution_count": 55,
   "metadata": {},
   "outputs": [],
   "source": [
    "# y1s = 1 / (lambs ** 2)\n",
    "y2s = 1 / (p * (1 - p))"
   ]
  },
  {
   "cell_type": "code",
   "execution_count": 56,
   "metadata": {},
   "outputs": [
    {
     "data": {
      "text/plain": [
       "[<matplotlib.lines.Line2D at 0x7f5040b9cf98>]"
      ]
     },
     "execution_count": 56,
     "metadata": {},
     "output_type": "execute_result"
    },
    {
     "data": {
      "image/png": "[encoded data removed]",
      "text/plain": [
       "<Figure size 432x288 with 1 Axes>"
      ]
     },
     "metadata": {},
     "output_type": "display_data"
    }
   ],
   "source": [
    "plt.plot(p, y2s)"
   ]
  },
  {
   "cell_type": "code",
   "execution_count": null,
   "metadata": {},
   "outputs": [],
   "source": []
  },
  {
   "cell_type": "code",
   "execution_count": 24,
   "metadata": {},
   "outputs": [
    {
     "data": {
      "text/plain": [
       "array([ 0.,  0.,  0.,  0.,  0.,  0.,  0.,  0.,  0.])"
      ]
     },
     "execution_count": 24,
     "metadata": {},
     "output_type": "execute_result"
    }
   ],
   "source": [
    "np.exp(-lambs * z)"
   ]
  },
  {
   "cell_type": "code",
   "execution_count": 33,
   "metadata": {},
   "outputs": [
    {
     "data": {
      "text/plain": [
       "array([  1.00000000e+000,   3.72007598e-044,   1.38389653e-087,\n",
       "         5.14820022e-131,   1.91516960e-174,   7.12457641e-218,\n",
       "         2.65039655e-261,   9.85967654e-305,   0.00000000e+000,\n",
       "         0.00000000e+000])"
      ]
     },
     "execution_count": 33,
     "metadata": {},
     "output_type": "execute_result"
    }
   ],
   "source": [
    "np.exp(-lambs * z)"
   ]
  },
  {
   "cell_type": "code",
   "execution_count": null,
   "metadata": {},
   "outputs": [],
   "source": []
  },
  {
   "cell_type": "code",
   "execution_count": 1,
   "metadata": {},
   "outputs": [],
   "source": [
    "import matplotlib.pyplot as plt\n",
    "%matplotlib inline"
   ]
  },
  {
   "cell_type": "code",
   "execution_count": 2,
   "metadata": {},
   "outputs": [],
   "source": [
    "import numpy as np"
   ]
  },
  {
   "cell_type": "code",
   "execution_count": 3,
   "metadata": {},
   "outputs": [],
   "source": [
    "p  = 0.3"
   ]
  },
  {
   "cell_type": "code",
   "execution_count": 4,
   "metadata": {},
   "outputs": [],
   "source": [
    "res = []\n",
    "for i in range(1000): # draw 1000 samples and calculate each x_bar\n",
    "    x_bar = np.mean(np.random.binomial(1, p, 100000))\n",
    "    res.append(x_bar)"
   ]
  },
  {
   "cell_type": "code",
   "execution_count": 5,
   "metadata": {},
   "outputs": [
    {
     "data": {
      "image/png": "[encoded data removed]",
      "text/plain": [
       "<Figure size 432x288 with 1 Axes>"
      ]
     },
     "metadata": {},
     "output_type": "display_data"
    }
   ],
   "source": [
    "_ = plt.hist(res, bins=50)"
   ]
  },
  {
   "cell_type": "code",
   "execution_count": 6,
   "metadata": {},
   "outputs": [
    {
     "data": {
      "image/png": "[encoded data removed]",
      "text/plain": [
       "<Figure size 432x288 with 1 Axes>"
      ]
     },
     "metadata": {},
     "output_type": "display_data"
    }
   ],
   "source": [
    "_ = plt.hist(np.log(res), bins=50)"
   ]
  },
  {
   "cell_type": "code",
   "execution_count": null,
   "metadata": {},
   "outputs": [],
   "source": []
  }
 ],
 "metadata": {
  "kernelspec": {
   "display_name": "Python 3",
   "language": "python",
   "name": "python3"
  },
  "language_info": {
   "codemirror_mode": {
    "name": "ipython",
    "version": 3
   },
   "file_extension": ".py",
   "mimetype": "text/x-python",
   "name": "python",
   "nbconvert_exporter": "python",
   "pygments_lexer": "ipython3",
   "version": "3.6.4"
  }
 },
 "nbformat": 4,
 "nbformat_minor": 2
}
