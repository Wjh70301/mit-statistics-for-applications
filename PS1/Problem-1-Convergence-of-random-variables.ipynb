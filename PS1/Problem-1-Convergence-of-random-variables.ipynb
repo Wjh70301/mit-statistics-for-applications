{
 "cells": [
  {
   "cell_type": "markdown",
   "metadata": {
    "nbpresent": {
     "id": "3e74754b-8f26-4293-8312-2d37e375deb5"
    }
   },
   "source": [
    "# 1"
   ]
  },
  {
   "cell_type": "markdown",
   "metadata": {
    "nbpresent": {
     "id": "aec162c3-2782-435d-b5a3-d50347dccb0e"
    }
   },
   "source": [
    "For $\\mathbb{P}[X_n = \\frac{1}{n}] = 1 - \\frac{1}{n^2}$,"
   ]
  },
  {
   "cell_type": "markdown",
   "metadata": {
    "nbpresent": {
     "id": "9cb7d85d-5dd8-4eb5-bc9c-d99ae7411ccd"
    }
   },
   "source": [
    "Proof for its convergence in porbablity:"
   ]
  },
  {
   "cell_type": "markdown",
   "metadata": {
    "nbpresent": {
     "id": "75c074f9-b626-4bae-ba7d-521d35b29f62"
    }
   },
   "source": [
    "\\begin{align}\n",
    "\\lim_{n \\to \\infty}&\\mathbb{P}[X_n = 0] = 1 \\\\\n",
    "\\lim_{n \\to \\infty}&\\mathbb{P}[\\left|X_n - 0\\right| \\le \\epsilon] = 1 \\\\\n",
    "\\lim_{n \\to \\infty}&\\mathbb{P}[\\left|X_n - 0\\right| \\ge \\epsilon] = 0\n",
    "\\end{align}"
   ]
  },
  {
   "cell_type": "markdown",
   "metadata": {
    "nbpresent": {
     "id": "12f06f47-6981-45d8-aad2-6c79416df80d"
    }
   },
   "source": [
    "Proof for its convergence in $L^2$:"
   ]
  },
  {
   "cell_type": "markdown",
   "metadata": {
    "nbpresent": {
     "id": "3a69b9e6-078b-4818-ba82-fd011c28ffb2"
    }
   },
   "source": [
    "\\begin{align}\n",
    "\\lim_{n \\to \\infty}&\\mathbb{P}[X_n^2 = 0] = 1 \\\\\n",
    "\\lim_{n \\to \\infty}&\\mathbb{P}[\\left|X_n - 0\\right|^2 \\le \\epsilon] = 1 \\\\\n",
    "\\lim_{n \\to \\infty}&\\mathbb{P}[\\left|X_n - 0\\right|^2 \\ge \\epsilon] = 0 \\\\\n",
    "\\lim_{n \\to \\infty}&\\mathbb{E}[\\left|X_n - 0\\right|^2] = 0 \\\\\n",
    "\\end{align}"
   ]
  },
  {
   "cell_type": "markdown",
   "metadata": {
    "nbpresent": {
     "id": "b9146358-b626-4c3f-b942-5798154def0a"
    }
   },
   "source": [
    "For $\\mathbb{P}[X_n = n] = \\frac{1}{n^2}$,"
   ]
  },
  {
   "cell_type": "markdown",
   "metadata": {
    "nbpresent": {
     "id": "f50ee7ac-944f-4088-9e09-2fafc73a4689"
    }
   },
   "source": [
    "\\begin{align}\n",
    "\\lim_{n \\to \\infty}\\mathbb{P}[X_n = n] = 0\n",
    "\\end{align}"
   ]
  },
  {
   "cell_type": "markdown",
   "metadata": {
    "nbpresent": {
     "id": "3609ac85-17ff-4f8c-8887-4df6ba4757aa"
    }
   },
   "source": [
    "But since the probability distribution of $\\mathbb{P}[X_n \\ne n]$ is unknown, so its convergence in probability is unknown. Because convergence in $L^2$ is more strict than convergence in probability, it isn't known, either."
   ]
  },
  {
   "cell_type": "markdown",
   "metadata": {
    "nbpresent": {
     "id": "40e4a2cc-f531-4c2a-b2fb-4098a09b0b1d"
    }
   },
   "source": [
    "## 2"
   ]
  },
  {
   "cell_type": "markdown",
   "metadata": {
    "nbpresent": {
     "id": "3a340354-4e6c-4d15-8314-55ba39a452d1"
    }
   },
   "source": [
    "$\\bar X_n = \\frac{1}{n}\\sum_{i=1}^{n}X_i$ and $(X_n)_{n \\in N^{*}}$ is a sequence of i.i.d Bernoulli random variables, then"
   ]
  },
  {
   "cell_type": "markdown",
   "metadata": {
    "nbpresent": {
     "id": "16c08159-8d78-4baa-be8b-40dcc05b13ea"
    }
   },
   "source": [
    "\\begin{align*}\n",
    "\\mathbb{E} [\\bar X_n] &= \\mathbb{E} \\Big[ \\frac{\\sum X_i}{n} \\Big] = \\frac{\\sum \\mathbb{E}[X_i]}{n} = \\frac{np}{n} = p\\\\\n",
    "\\mathbb{V}[\\bar X_n] & = \\mathbb{V} \\Big[\\frac{\\sum X_i}{n} \\Big] = \\frac{\\sum \\mathbb{V}[X_i]}{n^2} = \\frac{np(1-p)}{n^2} = \\frac{p(1-p)}{n} \\\\\n",
    "\\lim_{n \\to \\infty} \\bar X_n &= p\n",
    "\\end{align*}"
   ]
  },
  {
   "cell_type": "markdown",
   "metadata": {
    "nbpresent": {
     "id": "c26fae1f-a737-4399-b65a-e013962fd6b8"
    }
   },
   "source": [
    "#### (a)"
   ]
  },
  {
   "cell_type": "markdown",
   "metadata": {
    "nbpresent": {
     "id": "5dd91f83-a81b-40e0-b8dd-00408f7dfbac"
    }
   },
   "source": [
    "For $n \\bar X_n$,"
   ]
  },
  {
   "cell_type": "markdown",
   "metadata": {
    "nbpresent": {
     "id": "b62d9d1a-55e7-4f87-91da-81d9d48afbca"
    }
   },
   "source": [
    "\\begin{align*}\n",
    "\\mathbb{E} [n \\bar X_n] &= n \\mathbb{E} [\\bar X_n] = np\\\\\n",
    "\\mathbb{V} [n \\bar X_n] &= n^2 \\mathbb{V} [\\bar X_n] = np(1-p)\\\\\n",
    "\\end{align*}"
   ]
  },
  {
   "cell_type": "markdown",
   "metadata": {
    "nbpresent": {
     "id": "659d48c7-add3-4cf1-9495-1623e8e148b4"
    }
   },
   "source": [
    "As $n \\to \\infty$, both $\\mathbb{E} [n \\bar X_n]$ and $\\mathbb{V} [n \\bar X_n]$ go to infinity, so $n\\bar X_n$ doesn't converge in distribution."
   ]
  },
  {
   "cell_type": "markdown",
   "metadata": {
    "nbpresent": {
     "id": "4f96bc29-d80c-443c-99b1-86ac3a0593d8"
    }
   },
   "source": [
    "#### (b)"
   ]
  },
  {
   "cell_type": "markdown",
   "metadata": {
    "nbpresent": {
     "id": "9f0ce37b-3990-4d5e-a128-985719e91a58"
    }
   },
   "source": [
    "\\begin{align*}\n",
    "\\lim_{n \\to \\infty} \\mathbb{E}[\\left|\\bar X_n - p\\right|^2]  \n",
    "&= \\lim_{n \\to \\infty} \\mathbb{E}[\\bar X_n^2 - 2p \\bar X_n +  p^2] \\\\\n",
    "&= \\lim_{n \\to \\infty} \\mathbb{E}[p^2 - 2p^2 +  p^2] \\\\\n",
    "&= 0\n",
    "\\end{align*}"
   ]
  },
  {
   "cell_type": "markdown",
   "metadata": {
    "nbpresent": {
     "id": "11c799c6-07bf-4f46-80d8-d6dce141286a"
    }
   },
   "source": [
    "# 3"
   ]
  },
  {
   "cell_type": "markdown",
   "metadata": {
    "nbpresent": {
     "id": "3b2981e3-f53f-488a-b78b-b3e354823a06"
    }
   },
   "source": [
    "$X_n$ is a Posson random variable with paramemeter $1/n$, i.e. "
   ]
  },
  {
   "cell_type": "markdown",
   "metadata": {
    "nbpresent": {
     "id": "509cf1f6-2513-4119-b3d5-7c24ca611fae"
    }
   },
   "source": [
    "$$\\mathbb{P}[X_n = k] = \\frac{(\\frac{1}{n})^k \\lambda^{-\\frac{1}{n}}}{k!}$$"
   ]
  },
  {
   "cell_type": "markdown",
   "metadata": {
    "nbpresent": {
     "id": "8529f456-63dd-4203-b268-64a37d63aa07"
    }
   },
   "source": [
    "\\begin{align}\n",
    "\\lim_{n \\to \\infty} \\mathbb{P}[X_n = 0] = \\lim_{n \\to \\infty} \\frac{(\\frac{1}{n})^0 \\lambda^{-\\frac{1}{n}}}{0!} = 1\n",
    "\\end{align}"
   ]
  },
  {
   "cell_type": "markdown",
   "metadata": {
    "nbpresent": {
     "id": "b4d9c77b-29e1-489a-8dfc-484f7d39dd18"
    }
   },
   "source": [
    "Similarly,"
   ]
  },
  {
   "cell_type": "markdown",
   "metadata": {
    "nbpresent": {
     "id": "61056223-d71b-4780-85c8-eee762089ecb"
    }
   },
   "source": [
    "$$\\mathbb{P}[nX_n = nk] = \\frac{(\\frac{1}{n})^k \\lambda^{-\\frac{1}{n}}}{k!}$$"
   ]
  },
  {
   "cell_type": "markdown",
   "metadata": {
    "nbpresent": {
     "id": "6fc3c6fb-87a7-432f-9fd7-f052d1e6e808"
    }
   },
   "source": [
    "\\begin{align}\n",
    "\\lim_{n \\to \\infty} \\mathbb{P}[nX_n = 0] = \\lim_{n \\to \\infty} \\frac{(\\frac{1}{n})^0 \\lambda^{-\\frac{1}{n}}}{0!} = 1\n",
    "\\end{align}"
   ]
  },
  {
   "cell_type": "markdown",
   "metadata": {
    "nbpresent": {
     "id": "81ea332b-87f0-400a-a15f-7902353738af"
    }
   },
   "source": [
    "Hence both $X_n$ and $nX_n$ converge to 0 in probability."
   ]
  }
 ],
 "metadata": {
  "kernelspec": {
   "display_name": "Python [default]",
   "language": "python",
   "name": "python3"
  },
  "language_info": {
   "codemirror_mode": {
    "name": "ipython",
    "version": 3
   },
   "file_extension": ".py",
   "mimetype": "text/x-python",
   "name": "python",
   "nbconvert_exporter": "python",
   "pygments_lexer": "ipython3",
   "version": "3.6.4"
  }
 },
 "nbformat": 4,
 "nbformat_minor": 2
}
