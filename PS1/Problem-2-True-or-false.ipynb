{
 "cells": [
  {
   "cell_type": "markdown",
   "metadata": {},
   "source": [
    "# 1, 2"
   ]
  },
  {
   "cell_type": "markdown",
   "metadata": {},
   "source": [
    "True. Since the probability density of $X_n$ and $Y_n$ become infinitely focus under $X$ and $Y$, so the additivity holds. This is just me thinking intuitively, if you know a rigorous proof somewhere, please let me know. I may try to add a proof myself, later."
   ]
  },
  {
   "cell_type": "markdown",
   "metadata": {},
   "source": [
    "# 3"
   ]
  },
  {
   "cell_type": "markdown",
   "metadata": {},
   "source": [
    "True if $X_n$ and $Y_n$ are independent."
   ]
  },
  {
   "cell_type": "markdown",
   "metadata": {},
   "source": [
    "# 4"
   ]
  },
  {
   "cell_type": "markdown",
   "metadata": {},
   "source": [
    "The statement is false"
   ]
  },
  {
   "cell_type": "markdown",
   "metadata": {},
   "source": [
    "Let $X^n$ be the sequence of $n$ coin tosses, $X_i$ be the Bernoulli random variable of turning head for each coin toss, so"
   ]
  },
  {
   "cell_type": "markdown",
   "metadata": {},
   "source": [
    "\\begin{align}\n",
    "\\mathbb{E}[X_i] &= p \\\\\n",
    "\\mathbb{V}[X_i] &= p(1-p) \\\\\n",
    "\\end{align}"
   ]
  },
  {
   "cell_type": "markdown",
   "metadata": {},
   "source": [
    "Let the random variable $\\bar X$ be "
   ]
  },
  {
   "cell_type": "markdown",
   "metadata": {},
   "source": [
    "$$\\bar X = \\frac{1}{n}\\sum_i^n {X_i}$$"
   ]
  },
  {
   "cell_type": "markdown",
   "metadata": {},
   "source": [
    "According to Problem 1, we have"
   ]
  },
  {
   "cell_type": "markdown",
   "metadata": {},
   "source": [
    "\\begin{align*}\n",
    "\\mathbb{E}[\\bar X] &= \\mathbb{E}\\Big[\\frac{1}{n}\\sum_i^n X_i \\Big] = p \\\\\n",
    "\\mathbb{V}[\\bar X] &= \\mathbb{V}\\Big[\\frac{1}{n}\\sum_i^nX_i \\Big] = \\frac{1}{n^2} \\sum_i^n \\mathbb{V}[X_i] = \\frac{p(1-p)}{n} \\\\\n",
    "\\end{align*}"
   ]
  },
  {
   "cell_type": "markdown",
   "metadata": {},
   "source": [
    "According to central limit theorem,\n",
    "\n",
    "$$\\bar X \\sim \\mathcal{N} \\Big(p, \\frac{p(1-p)}{n} \\Big)$$"
   ]
  },
  {
   "cell_type": "markdown",
   "metadata": {},
   "source": [
    "Given that heads show up 43 out of 100 times, $n$ = 100, and $\\bar X$ = 0.43, so"
   ]
  },
  {
   "cell_type": "markdown",
   "metadata": {},
   "source": [
    "\\begin{align*}\n",
    "\\mathbb{P}[0.33 \\le p \\le 0.53] \n",
    "&= \\mathbb{P}[\\bar X - 0.1 \\le p \\le \\bar X + 0.1] \\\\\n",
    "&= \\mathbb{P}[\\left|\\bar X - p\\right| \\le 0.1] \\\\\n",
    "&= \\mathbb{P}[p - 0.1 \\le \\bar X \\le p + 0.1] \\\\\n",
    "&= \\mathbb{P}\\Big[\\frac{-0.1}{\\sqrt{p(1-p) / n}}  \\le \\frac{\\bar X - p}{\\sqrt{p(1-p)/n}} \\le \\frac{0.1}{\\sqrt{p(1-p)/n}}\\Big] \\\\\n",
    "&= \\mathbb{P}\\Big[\\frac{-1}{\\sqrt{p(1-p)}}  \\le Z \\le \\frac{1}{\\sqrt{p(1-p)}}\\Big] \\\n",
    "\\end{align*}"
   ]
  },
  {
   "cell_type": "markdown",
   "metadata": {},
   "source": [
    "where $Z \\sim \\mathcal{N}(0, 1)$."
   ]
  },
  {
   "cell_type": "markdown",
   "metadata": {},
   "source": [
    "Thus the probability of $p$ within the interval of 0.33 and 0.53 is variable depending on $p$. Such dependency is plotted below,"
   ]
  },
  {
   "cell_type": "code",
   "execution_count": 17,
   "metadata": {},
   "outputs": [
    {
     "data": {
      "text/plain": [
       "Text(0.5,0,'p')"
      ]
     },
     "execution_count": 17,
     "metadata": {},
     "output_type": "execute_result"
    },
    {
     "data": {
      "image/png": "[encoded data removed]",
      "text/plain": [
       "<Figure size 432x288 with 1 Axes>"
      ]
     },
     "metadata": {},
     "output_type": "display_data"
    }
   ],
   "source": [
    "import matplotlib\n",
    "import matplotlib.pyplot as plt\n",
    "import numpy as np\n",
    "import scipy.stats as stats\n",
    "\n",
    "\n",
    "def cdf(p):\n",
    "    factor = 1 / np.sqrt(p * (1 - p))\n",
    "    return stats.norm.cdf(factor) - stats.norm.cdf(- factor)\n",
    "\n",
    "ps = np.arange(0.33, 0.53 + 0.01, 0.01)\n",
    "plt.plot(ps, cdf(ps))\n",
    "\n",
    "plt.grid()\n",
    "plt.ylabel('Pr')\n",
    "plt.xlabel('p')"
   ]
  },
  {
   "cell_type": "code",
   "execution_count": 20,
   "metadata": {},
   "outputs": [
    {
     "name": "stdout",
     "output_type": "stream",
     "text": [
      "0.5000000000000002 0.9544997361036416\n"
     ]
    }
   ],
   "source": [
    "idx = np.argmin(cdf(ps))\n",
    "print(ps[idx], cdf(ps)[idx])"
   ]
  },
  {
   "cell_type": "markdown",
   "metadata": {},
   "source": [
    "So the probability is always above 0.95, and its minimum is 0.954 when $p=0.5$.\n",
    "\n",
    "**NOTE**: this reads funny since $p$ is unknown, if $p$ is known, then the probability of it within the interval is 1. Please let me know if you think my way of thinking is wrong, and it should've been described in a more intuitive way."
   ]
  },
  {
   "cell_type": "markdown",
   "metadata": {},
   "source": [
    "A closely related post is https://math.stackexchange.com/questions/888562/confidence-interval-for-estimating-probability-of-a-biased-coin"
   ]
  },
  {
   "cell_type": "code",
   "execution_count": null,
   "metadata": {},
   "outputs": [],
   "source": []
  }
 ],
 "metadata": {
  "kernelspec": {
   "display_name": "Python [default]",
   "language": "python",
   "name": "python3"
  },
  "language_info": {
   "codemirror_mode": {
    "name": "ipython",
    "version": 3
   },
   "file_extension": ".py",
   "mimetype": "text/x-python",
   "name": "python",
   "nbconvert_exporter": "python",
   "pygments_lexer": "ipython3",
   "version": "3.6.4"
  }
 },
 "nbformat": 4,
 "nbformat_minor": 2
}
