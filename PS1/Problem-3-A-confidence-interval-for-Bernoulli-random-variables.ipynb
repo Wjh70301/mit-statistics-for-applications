{
 "cells": [
  {
   "cell_type": "markdown",
   "metadata": {},
   "source": [
    "# 1"
   ]
  },
  {
   "cell_type": "markdown",
   "metadata": {},
   "source": [
    "This has been proved in Problem 2(4), may add my own proof of central limit theorem later."
   ]
  },
  {
   "cell_type": "markdown",
   "metadata": {},
   "source": [
    "\\begin{align*}\n",
    "\\bar X_n &\\sim \\mathcal{N} \\Big(p, \\frac{p(1-p)}{n} \\Big) \\\\\n",
    "Z = \\frac{\\bar X_n - p}{\\sqrt{(p(1-p)/n}} &\\sim \\mathcal{N}(0, 1) \\\\\n",
    "\\end{align*}"
   ]
  },
  {
   "cell_type": "markdown",
   "metadata": {},
   "source": [
    "# 2"
   ]
  },
  {
   "cell_type": "markdown",
   "metadata": {},
   "source": [
    "\\begin{align*}\n",
    "\\mathbb{P}(\\left|Z\\right| \\le t) \n",
    "&=\\mathbb{P}(-t \\le Z \\le t) \\\\\n",
    "&=\\mathbb{P}(\\le Z \\le t) - \\mathbb{P}(\\le Z \\le -t) \\\\\n",
    "&=\\mathbb{P}(Z \\le t) - (1 - \\mathbb{P}(Z \\le t)) \\\\\n",
    "&=2 \\mathbb{P}(Z \\le t) - 1\n",
    "\\end{align*}"
   ]
  },
  {
   "cell_type": "markdown",
   "metadata": {},
   "source": [
    "# 3"
   ]
  },
  {
   "cell_type": "markdown",
   "metadata": {},
   "source": [
    "Given\n",
    "\n",
    "$$\n",
    "I_t = \\Big[\\bar X_n - \\frac{t\\sqrt{p(1-p)}}{\\sqrt{n}}, \\bar X_n + \\frac{t\\sqrt{p(1-p)}}{\\sqrt{n}} \\Big]\n",
    "$$"
   ]
  },
  {
   "cell_type": "markdown",
   "metadata": {},
   "source": [
    "then"
   ]
  },
  {
   "cell_type": "markdown",
   "metadata": {},
   "source": [
    "\\begin{align*}\n",
    "\\mathbb{P}[I_t \\ni p]\n",
    "&= \\mathbb{P}\\Big[\\left|p - \\bar X_n\\right| \\le \\frac{t\\sqrt{p(1-p)}}{\\sqrt{n}} \\Big] \\\\\n",
    "&= \\mathbb{P}\\Big[p - \\frac{t\\sqrt{p(1-p)}}{\\sqrt{n}} \\le \\bar X_n \\le p + \\frac{t\\sqrt{p(1-p)}}{\\sqrt{n}} \\Big] \\\\\n",
    "&= \\mathbb{P}[-t \\le Z \\le t ] \\\\\n",
    "&= \\mathbb{P}[\\left| Z \\right| \\le t ] \\\\\n",
    "&= 2\\mathbb{P}[Z \\le t] - 1 \\\\\n",
    "&= 2\\Phi (t) - 1 \\\\\n",
    "\\end{align*}"
   ]
  },
  {
   "cell_type": "markdown",
   "metadata": {},
   "source": [
    "The fifth equality used the results from 2. The sixth equality follows the definition of CDF for standard Gaussian distribution."
   ]
  },
  {
   "cell_type": "markdown",
   "metadata": {},
   "source": [
    "# 4"
   ]
  },
  {
   "cell_type": "markdown",
   "metadata": {},
   "source": [
    "To ensure that $\\mathbb{P}[\\left| Z \\right| \\le t ] \\ge c$, where $c$ is a cutoff, then"
   ]
  },
  {
   "cell_type": "markdown",
   "metadata": {},
   "source": [
    "\\begin{align*}\n",
    "2\\mathbb{P}[\\left| Z \\right| \\le t ] - 1 &\\le c \\\\\n",
    "\\mathbb{P}[\\left| Z \\right| \\le t ] \\le \\frac{1 + c}{2} \\\\\n",
    "\\end{align*}"
   ]
  },
  {
   "cell_type": "markdown",
   "metadata": {},
   "source": [
    "Let $c = 0.95$, then $\\mathbb{P}[\\left| Z \\right| \\le t ] \\le 0.975$, so $t_0 = 1.96$, and"
   ]
  },
  {
   "cell_type": "markdown",
   "metadata": {},
   "source": [
    "$$\n",
    "I_{t_0} = \\Big[\\bar X_n - \\frac{t_0\\sqrt{p(1-p)}}{\\sqrt{n}}, \\bar X_n + \\frac{t_0\\sqrt{p(1-p)}}{\\sqrt{n}} \\Big]\n",
    "$$"
   ]
  },
  {
   "cell_type": "markdown",
   "metadata": {},
   "source": [
    "# 5"
   ]
  },
  {
   "cell_type": "markdown",
   "metadata": {},
   "source": [
    "(a)"
   ]
  },
  {
   "cell_type": "markdown",
   "metadata": {},
   "source": [
    "\\begin{align*}\n",
    "p(1 - p) = - (p - \\frac{1}{2})^2 + \\frac{1}{4} \\le \\frac{1}{4}\n",
    "\\end{align*}"
   ]
  },
  {
   "cell_type": "markdown",
   "metadata": {},
   "source": [
    "(b)"
   ]
  },
  {
   "cell_type": "markdown",
   "metadata": {},
   "source": [
    "\\begin{align*}\n",
    "\\frac{t\\sqrt{p(1-p)}}{\\sqrt{n}} \\le \\frac{t}{4\\sqrt{n}}\n",
    "\\end{align*}"
   ]
  },
  {
   "cell_type": "markdown",
   "metadata": {},
   "source": [
    "To make $\\mathbb{P}[\\left| Z \\right| \\le t ] \\ge 0.95$, then let $t = t_0 = 1.96$, and the interval could be"
   ]
  },
  {
   "cell_type": "markdown",
   "metadata": {},
   "source": [
    "\\begin{align*}\n",
    "J_1 &= \\Big[\\bar X_n - \\frac{1.96}{4\\sqrt{n}}, \\bar X_n + \\frac{1.96}{4\\sqrt{n}} \\Big] \\\\\n",
    "&= \\Big[\\bar X_n - \\frac{0.49}{\\sqrt{n}}, \\bar X_n + \\frac{0.49}{\\sqrt{n}} \\Big] \\\\\n",
    "\\end{align*}"
   ]
  },
  {
   "cell_type": "markdown",
   "metadata": {},
   "source": [
    "Because of the last inequality, this results in tight boundry to ensure for $\\mathbb{P}[\\left| Z \\right| \\le t ] \\le 0.95$, meaning the actual boundry could have probably been wider, independent of $p$."
   ]
  },
  {
   "cell_type": "markdown",
   "metadata": {},
   "source": [
    "# 6"
   ]
  },
  {
   "cell_type": "markdown",
   "metadata": {},
   "source": [
    "(a)"
   ]
  },
  {
   "cell_type": "markdown",
   "metadata": {},
   "source": [
    "That \"$p \\ni I_{t_0}$\" is equivalent to $\\left|Z\\right| \\le t_0$. Hence,"
   ]
  },
  {
   "cell_type": "markdown",
   "metadata": {},
   "source": [
    "\\begin{align*}\n",
    "\\left| \\frac{\\bar X_n - p}{\\sqrt{(p(1-p)/n}} \\right| &\\le t_0 \\\\\n",
    "\\frac{n(\\bar X_n - p)^2}{p(1 - p)} &\\le t_0^2 \\\\\n",
    "n\\bar X_n^2 - 2np \\bar X_n + np^2 &\\le t_0^2p - t_0^2p^2 \\\\\n",
    "(n + t_0^2)p^2 - (2n\\bar X_n + t_0^2)p + n \\bar X_n^2 &\\le 0\n",
    "\\end{align*}"
   ]
  },
  {
   "cell_type": "markdown",
   "metadata": {},
   "source": [
    "(b)"
   ]
  },
  {
   "cell_type": "markdown",
   "metadata": {},
   "source": [
    "\\begin{align*}\n",
    "(n + t_0^2)p^2 - (2n\\bar X_n + t_0^2)p + n \\bar X_n^2 &\\le 0 \\\\\n",
    "(n + t_0^2) \\Big(p^2 - \\frac{2n \\bar X_n + t_0^2}{n + t_0^2}p \\Big) + n\\bar X_n^2 &\\le 0 \\\\\n",
    "(n + t_0^2) \\bigg [\\Big(p - \\frac{2n \\bar X_n + t_0^2}{2(n + t_0^2)} \\Big)^2 - \\Big(\\frac{2n \\bar X_n + t_0^2}{2(n + t_0^2)}\\Big)^2 \\bigg] + n\\bar X_n^2 &\\le 0 \\\\\n",
    "\\Big(p - \\frac{2n \\bar X_n + t_0^2}{2(n + t_0^2)} \\Big)^2 &\\le \\Big(\\frac{2n \\bar X_n + t_0^2}{2(n + t_0^2)}\\Big)^2 - \\frac{n\\bar X_n^2}{n + t_0^2} \\\\\n",
    "\\left|p - \\frac{2n \\bar X_n + t_0^2}{2(n + t_0^2)} \\right| &\\le \\sqrt{\\Big(\\frac{2n \\bar X_n + t_0^2}{2(n + t_0^2)}\\Big)^2 - \\frac{n\\bar X_n^2}{n + t_0^2}} \\\\\n",
    "\\frac{2n \\bar X_n + t_0^2}{2(n + t_0^2)} - \\sqrt{\\Big(\\frac{2n \\bar X_n + t_0^2}{2(n + t_0^2)}\\Big)^2 - \\frac{n\\bar X_n^2}{n + t_0^2}} \\le p &\\le \\frac{2n \\bar X_n + t_0^2}{2(n + t_0^2)} + \\sqrt{\\Big(\\frac{2n \\bar X_n + t_0^2}{2(n + t_0^2)}\\Big)^2 - \\frac{n\\bar X_n^2}{n + t_0^2}} \\\\\n",
    "\\end{align*}"
   ]
  },
  {
   "cell_type": "markdown",
   "metadata": {},
   "source": [
    "(c)"
   ]
  },
  {
   "cell_type": "markdown",
   "metadata": {},
   "source": [
    "so\n",
    "\n",
    "\\begin{align*}\n",
    "J_2 &= \\Bigg[\\frac{2n \\bar X_n + t_0^2}{2(n + t_0^2)} - \\sqrt{\\Big(\\frac{2n \\bar X_n + t_0^2}{2(n + t_0^2)}\\Big)^2 - \\frac{n\\bar X_n^2}{n + t_0^2}}, \\frac{2n \\bar X_n + t_0^2}{2(n + t_0^2)} + \\sqrt{\\Big(\\frac{2n \\bar X_n + t_0^2}{2(n + t_0^2)}\\Big)^2 - \\frac{n\\bar X_n^2}{n + t_0^2}} \\Bigg]\n",
    "\\end{align*}"
   ]
  },
  {
   "cell_type": "markdown",
   "metadata": {},
   "source": [
    "It's easy to see that\n",
    "\n",
    "$$\\lim_{n \\to \\infty} J_2 = [\\bar X_n, \\bar X_n]$$\n",
    "\n",
    "meaning $p$ converges to $\\bar X$."
   ]
  },
  {
   "cell_type": "markdown",
   "metadata": {},
   "source": [
    "# 7"
   ]
  },
  {
   "cell_type": "markdown",
   "metadata": {},
   "source": [
    "First, we use Delta method to show that"
   ]
  },
  {
   "cell_type": "markdown",
   "metadata": {},
   "source": [
    "$$\\sqrt{\\frac{{\\bar X_n} (1 - \\bar X_n)}{n}} \\xrightarrow[n \\to \\infty]{\\mathbb{P}} \\sqrt{\\frac{{p} (1 - p)}{n}}$$"
   ]
  },
  {
   "cell_type": "markdown",
   "metadata": {},
   "source": [
    "Recap Delta method ([MIT18_650F16_Introduction.pdf](./MIT18_650F16_Introduction.pdf), Slide 38):"
   ]
  },
  {
   "cell_type": "markdown",
   "metadata": {},
   "source": [
    "If \n",
    "\n",
    "$$ \\sqrt{n}(Z_n - \\theta) \\xrightarrow[n \\to \\infty]{(d)} \\mathcal{N}(0, \\sigma^2) $$"
   ]
  },
  {
   "cell_type": "markdown",
   "metadata": {},
   "source": [
    "then, \n",
    "\n",
    "$$\\sqrt{n}(g(Z_n) - g(\\theta)) \\xrightarrow[n \\to \\infty]{(d)} \\mathcal{N}(0, g'(\\theta)^2\\sigma^2)$$"
   ]
  },
  {
   "cell_type": "markdown",
   "metadata": {},
   "source": [
    "Applying Delta method, given that\n",
    "\n",
    "$$(\\bar X_n - p) \\xrightarrow[n \\to \\infty]{(d)} \\mathcal{N}\\big(0, \\frac{p(1 - p)}{n}\\big)$$"
   ]
  },
  {
   "cell_type": "markdown",
   "metadata": {},
   "source": [
    "Let $g(t) = \\sqrt{t(1-t)}$, then\n",
    "\n",
    "$$\\sqrt{\\bar X_n(1 - \\bar X_n)} - \\sqrt{p(1-p)} \\xrightarrow[n \\to \\infty]{(d)} \\mathcal{N}\\big(0, \\frac{g'(p)^2p(1 - p)}{n}\\big)$$"
   ]
  },
  {
   "cell_type": "markdown",
   "metadata": {},
   "source": [
    "so \n",
    "$$\\sqrt{\\bar X_n(1 - \\bar X_n)} \\xrightarrow[n \\to \\infty]{(d)} \\mathcal{N}\\big(\\sqrt{p(1-p)}, \\frac{g'(p)^2p(1 - p)}{n}\\big)$$"
   ]
  },
  {
   "cell_type": "markdown",
   "metadata": {},
   "source": [
    "as $n \\to \\infty$, the $\\frac{g'(p)^2p(1 - p)}{n} \\to 0$, thus\n",
    "\n",
    "$$\\sqrt{\\bar X_n(1 - \\bar X_n)} \\xrightarrow[n \\to \\infty]{\\mathbb{P}} \\sqrt{p(1-p)}$$"
   ]
  },
  {
   "cell_type": "markdown",
   "metadata": {},
   "source": [
    "Recap Slutsky's theorem ([MIT18_650F16_Introduction.pdf](./MIT18_650F16_Introduction.pdf), Slide 41):"
   ]
  },
  {
   "cell_type": "markdown",
   "metadata": {},
   "source": [
    "If \n",
    "\n",
    "\\begin{align*}\n",
    "X_n &\\xrightarrow[n \\to \\infty]{(d)} X \\\\\n",
    "Y_n &\\xrightarrow[n \\to \\infty]{\\mathbb{P}} c\\\\\n",
    "\\end{align*}\n",
    "\n",
    "then"
   ]
  },
  {
   "cell_type": "markdown",
   "metadata": {},
   "source": [
    "\\begin{align*}\n",
    "X_n + Y_n &\\xrightarrow[n \\to \\infty]{(d)} X + c \\\\\n",
    "X_n Y_n   &\\xrightarrow[n \\to \\infty]{(d)} cX\\\\\n",
    "\\end{align*}"
   ]
  },
  {
   "cell_type": "markdown",
   "metadata": {},
   "source": [
    "Then, by Slutsky’s theorem,\n",
    "\n",
    "$$\\bar X_n \\pm \\frac{t_0\\sqrt{\\bar X_n(1-\\bar X_n)}}{\\sqrt{n}} \\xrightarrow[n \\to \\infty]{\\mathbb{P}} \\bar X_n \\pm \\frac{t_0\\sqrt{p(1-p)}}{\\sqrt{n}}$$"
   ]
  },
  {
   "cell_type": "markdown",
   "metadata": {},
   "source": [
    "Since $X = p$, which is a constant, in this case, Slutsky's convergence becomes in probablity instead of in distribution (according this stats.stackexchange [answer](https://stats.stackexchange.com/a/370041/112141))."
   ]
  },
  {
   "cell_type": "markdown",
   "metadata": {},
   "source": [
    "Therefore, replace $p$ with $\\bar X_n$,"
   ]
  },
  {
   "cell_type": "markdown",
   "metadata": {},
   "source": [
    "$$\n",
    "J_3 = \\Big[\\bar X_n - \\frac{t_0\\sqrt{\\bar X_n(1-\\bar X_n)}}{\\sqrt{n}}, \\bar X_n + \\frac{t_0\\sqrt{\\bar X_n(1-\\bar X_n)}}{\\sqrt{n}} \\Big] = I_{t_0}\n",
    "$$"
   ]
  },
  {
   "cell_type": "markdown",
   "metadata": {},
   "source": [
    "# 8"
   ]
  },
  {
   "cell_type": "code",
   "execution_count": 38,
   "metadata": {},
   "outputs": [],
   "source": [
    "import matplotlib.pyplot as plt\n",
    "import numpy as np"
   ]
  },
  {
   "cell_type": "code",
   "execution_count": 14,
   "metadata": {},
   "outputs": [],
   "source": [
    "def calc_J1(n, Xb, t0):\n",
    "    center = Xb\n",
    "    error = t0 / (4 * np.sqrt(n))\n",
    "    return center, error"
   ]
  },
  {
   "cell_type": "code",
   "execution_count": 28,
   "metadata": {},
   "outputs": [],
   "source": [
    "def calc_J2(n, Xb, t0):\n",
    "    center = (2 * n * Xb + t0 ** 2) / (2 * (n + t0 **2))\n",
    "    \n",
    "    err1 = (2 * n * Xb + t0 ** 2) / (2 * (n + t0 ** 2))\n",
    "    err1 = err1 ** 2\n",
    "    err2 = n * Xb ** 2 / (n + t0 ** 2)\n",
    "\n",
    "    error = np.sqrt(err1 - err2)\n",
    "    return center, error"
   ]
  },
  {
   "cell_type": "code",
   "execution_count": 29,
   "metadata": {},
   "outputs": [],
   "source": [
    "def calc_J3(n, Xb, t0):\n",
    "    center = Xb\n",
    "    error = t0 * np.sqrt(Xb * (1 - Xb)) / np.sqrt(n)\n",
    "    return center, error"
   ]
  },
  {
   "cell_type": "code",
   "execution_count": 30,
   "metadata": {},
   "outputs": [],
   "source": [
    "n = 1e4\n",
    "Xb = 0.7341\n",
    "t0 = 1.96"
   ]
  },
  {
   "cell_type": "code",
   "execution_count": 35,
   "metadata": {},
   "outputs": [
    {
     "name": "stdout",
     "output_type": "stream",
     "text": [
      "J1: [0.729200,\t0.739000], len: (2 * 0.00490000)\n",
      "J2: [0.725352,\t0.742668], len: (2 * 0.00865830)\n",
      "J3: [0.725440,\t0.742760], len: (2 * 0.00865950)\n"
     ]
    }
   ],
   "source": [
    "for i in range(1, 4):\n",
    "    func = eval(f'calc_J{i}')\n",
    "    center, err = func(n, Xb, t0)\n",
    "    print(f'J{i}: [{center - err:.6f},\\t{center + err:.6f}], len: (2 * {err:.8f})')"
   ]
  },
  {
   "cell_type": "markdown",
   "metadata": {},
   "source": [
    "Consistent with previous analysis, $J_1$ is a tight boundry compared to the other two. $J_2$ and $J_3$ are comparable in this example."
   ]
  },
  {
   "cell_type": "code",
   "execution_count": 63,
   "metadata": {},
   "outputs": [
    {
     "name": "stdout",
     "output_type": "stream",
     "text": [
      "for J_1, n needs to be at least 385 to reach interval length 0.05\n",
      "for J_2, n needs to be at least 1198 to reach interval length 0.05\n",
      "for J_3, n needs to be at least 1200 to reach interval length 0.05\n"
     ]
    },
    {
     "data": {
      "image/png": "[encoded data removed]",
      "text/plain": [
       "<Figure size 432x288 with 1 Axes>"
      ]
     },
     "metadata": {},
     "output_type": "display_data"
    }
   ],
   "source": [
    "target_err_len = 0.05\n",
    "\n",
    "j1_res, j2_res, j3_res = [], [], []\n",
    "ns = np.arange(100, 5000)\n",
    "for i in range(1, 4):\n",
    "    for _n in ns:\n",
    "        func = eval(f'calc_J{i}')\n",
    "        res = eval(f'j{i}_res')\n",
    "        center, err = func(_n, Xb, t0)\n",
    "        err_len = err * 2\n",
    "        res.append(err_len)\n",
    "    res = np.array(res)\n",
    "    required_n = ns[res < target_err_len][0]\n",
    "    print(f'for J_{i}, n needs to be at least {required_n} to reach interval length {target_err_len}')\n",
    "    plt.plot(res, label=f'J_{i}')\n",
    "    \n",
    "plt.plot([ns[0], ns[-1]], [target_err_len, target_err_len])\n",
    "plt.xlabel('n')\n",
    "plt.ylabel('interval length')\n",
    "plt.legend()\n",
    "plt.grid()"
   ]
  },
  {
   "cell_type": "markdown",
   "metadata": {},
   "source": [
    "The curves for $J_2$ and $J_3$ almost overlap."
   ]
  }
 ],
 "metadata": {
  "kernelspec": {
   "display_name": "Python [default]",
   "language": "python",
   "name": "python3"
  },
  "language_info": {
   "codemirror_mode": {
    "name": "ipython",
    "version": 3
   },
   "file_extension": ".py",
   "mimetype": "text/x-python",
   "name": "python",
   "nbconvert_exporter": "python",
   "pygments_lexer": "ipython3",
   "version": "3.6.4"
  }
 },
 "nbformat": 4,
 "nbformat_minor": 2
}
