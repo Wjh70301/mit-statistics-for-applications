{
 "cells": [
  {
   "cell_type": "markdown",
   "metadata": {},
   "source": [
    "# 1"
   ]
  },
  {
   "cell_type": "markdown",
   "metadata": {},
   "source": [
    "For $\\mathbb{P}[X_n = \\frac{1}{n}] = 1 - \\frac{1}{n^2}$,"
   ]
  },
  {
   "cell_type": "markdown",
   "metadata": {},
   "source": [
    "Proof for its convergence in porbablity:"
   ]
  },
  {
   "cell_type": "markdown",
   "metadata": {},
   "source": [
    "\\begin{align}\n",
    "\\lim_{n \\to \\infty}&\\mathbb{P}[X_n = 0] = 1 \\\\\n",
    "\\lim_{n \\to \\infty}&\\mathbb{P}[\\left|X_n - 0\\right| \\le \\epsilon] = 1 \\\\\n",
    "\\lim_{n \\to \\infty}&\\mathbb{P}[\\left|X_n - 0\\right| \\ge \\epsilon] = 0\n",
    "\\end{align}"
   ]
  },
  {
   "cell_type": "markdown",
   "metadata": {},
   "source": [
    "Proof for its convergence in $L^2$:"
   ]
  },
  {
   "cell_type": "markdown",
   "metadata": {},
   "source": [
    "\\begin{align}\n",
    "\\lim_{n \\to \\infty}&\\mathbb{P}[X_n^2 = 0] = 1 \\\\\n",
    "\\lim_{n \\to \\infty}&\\mathbb{P}[\\left|X_n - 0\\right|^2 \\le \\epsilon] = 1 \\\\\n",
    "\\lim_{n \\to \\infty}&\\mathbb{P}[\\left|X_n - 0\\right|^2 \\ge \\epsilon] = 0 \\\\\n",
    "\\lim_{n \\to \\infty}&\\mathbb{E}[\\left|X_n - 0\\right|^2] = 0 \\\\\n",
    "\\end{align}"
   ]
  },
  {
   "cell_type": "markdown",
   "metadata": {},
   "source": [
    "For $\\mathbb{P}[X_n = n] = \\frac{1}{n^2}$,"
   ]
  },
  {
   "cell_type": "markdown",
   "metadata": {},
   "source": [
    "\\begin{align}\n",
    "\\lim_{n \\to \\infty}\\mathbb{P}[X_n = n] = 0\n",
    "\\end{align}"
   ]
  },
  {
   "cell_type": "markdown",
   "metadata": {},
   "source": [
    "But since the probability distribution of $\\mathbb{P}[X_n \\ne n]$ is unknown, so its convergence in probability is unknown. Because convergence in $L^2$ is more strict than convergence in probability, it isn't known, either."
   ]
  },
  {
   "cell_type": "markdown",
   "metadata": {},
   "source": [
    "## 2"
   ]
  },
  {
   "cell_type": "markdown",
   "metadata": {},
   "source": [
    "$\\bar X_n = \\frac{1}{n}\\sum_{i=1}^{n}X_i$ and $(X_n)_{n \\in N^{*}}$ is a sequence of i.i.d Bernoulli random variables, then"
   ]
  },
  {
   "cell_type": "markdown",
   "metadata": {},
   "source": [
    "\\begin{align*}\n",
    "\\mathbb{E} [\\bar X_n] &= \\mathbb{E} \\Big[ \\frac{\\sum X_i}{n} \\Big] = \\frac{\\sum \\mathbb{E}[X_i]}{n} = \\frac{np}{n} = p\\\\\n",
    "\\mathbb{V}[\\bar X_n] & = \\mathbb{V} \\Big[\\frac{\\sum X_i}{n} \\Big] = \\frac{\\sum \\mathbb{V}[X_i]}{n^2} = \\frac{np(1-p)}{n^2} = \\frac{p(1-p)}{n} \\\\\n",
    "\\lim_{n \\to \\infty} \\bar X_n &= p\n",
    "\\end{align*}"
   ]
  },
  {
   "cell_type": "markdown",
   "metadata": {},
   "source": [
    "#### (a)"
   ]
  },
  {
   "cell_type": "markdown",
   "metadata": {},
   "source": [
    "For $n \\bar X_n$,"
   ]
  },
  {
   "cell_type": "markdown",
   "metadata": {},
   "source": [
    "\\begin{align*}\n",
    "\\mathbb{E} [n \\bar X_n] &= n \\mathbb{E} [\\bar X_n] = np\\\\\n",
    "\\mathbb{V} [n \\bar X_n] &= n^2 \\mathbb{V} [\\bar X_n] = np(1-p)\\\\\n",
    "\\end{align*}"
   ]
  },
  {
   "cell_type": "markdown",
   "metadata": {},
   "source": [
    "As $n \\to \\infty$, both $\\mathbb{E} [n \\bar X_n]$ and $\\mathbb{V} [n \\bar X_n]$ go to infinity, so $n\\bar X_n$ doesn't converge in distribution."
   ]
  },
  {
   "cell_type": "markdown",
   "metadata": {},
   "source": [
    "#### (b)"
   ]
  },
  {
   "cell_type": "markdown",
   "metadata": {},
   "source": [
    "\\begin{align*}\n",
    "\\lim_{n \\to \\infty} \\mathbb{E}[\\left|\\bar X_n - p\\right|^2]  \n",
    "&= \\lim_{n \\to \\infty} \\mathbb{E}[\\bar X_n^2 - 2p \\bar X_n +  p^2] \\\\\n",
    "&= \\lim_{n \\to \\infty} \\mathbb{E}[p^2 - 2p^2 +  p^2] \\\\\n",
    "&= 0\n",
    "\\end{align*}"
   ]
  },
  {
   "cell_type": "markdown",
   "metadata": {},
   "source": [
    "# 3"
   ]
  },
  {
   "cell_type": "markdown",
   "metadata": {},
   "source": [
    "$X_n$ is a Posson random variable with paramemeter $1/n$, i.e. "
   ]
  },
  {
   "cell_type": "markdown",
   "metadata": {},
   "source": [
    "$$\\mathbb{P}[X_n = k] = \\frac{(\\frac{1}{n})^k \\lambda^{-\\frac{1}{n}}}{k!}$$"
   ]
  },
  {
   "cell_type": "markdown",
   "metadata": {},
   "source": [
    "\\begin{align}\n",
    "\\lim_{n \\to \\infty} \\mathbb{P}[X_n = 0] = \\lim_{n \\to \\infty} \\frac{(\\frac{1}{n})^0 \\lambda^{-\\frac{1}{n}}}{0!} = 1\n",
    "\\end{align}"
   ]
  },
  {
   "cell_type": "markdown",
   "metadata": {},
   "source": [
    "Similarly,"
   ]
  },
  {
   "cell_type": "markdown",
   "metadata": {},
   "source": [
    "$$\\mathbb{P}[nX_n = nk] = \\frac{(\\frac{1}{n})^k \\lambda^{-\\frac{1}{n}}}{k!}$$"
   ]
  },
  {
   "cell_type": "markdown",
   "metadata": {},
   "source": [
    "\\begin{align}\n",
    "\\lim_{n \\to \\infty} \\mathbb{P}[nX_n = 0] = \\lim_{n \\to \\infty} \\frac{(\\frac{1}{n})^0 \\lambda^{-\\frac{1}{n}}}{0!} = 1\n",
    "\\end{align}"
   ]
  },
  {
   "cell_type": "markdown",
   "metadata": {},
   "source": [
    "Hence both $X_n$ and $nX_n$ converge to 0 in probability."
   ]
  }
 ],
 "metadata": {
  "kernelspec": {
   "display_name": "Python [default]",
   "language": "python",
   "name": "python3"
  },
  "language_info": {
   "codemirror_mode": {
    "name": "ipython",
    "version": 3
   },
   "file_extension": ".py",
   "mimetype": "text/x-python",
   "name": "python",
   "nbconvert_exporter": "python",
   "pygments_lexer": "ipython3",
   "version": "3.6.4"
  }
 },
 "nbformat": 4,
 "nbformat_minor": 2
}
